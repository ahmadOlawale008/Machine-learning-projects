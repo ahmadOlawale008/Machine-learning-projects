{
 "cells": [
  {
   "cell_type": "markdown",
   "id": "5ea74d99",
   "metadata": {},
   "source": [
    "### Big O Notation\n",
    "Big O notation is used to measure how running time or space requirements for your program grows as input size grows\n",
    "Rules:\n",
    "- Keep fastest growing term $ time = (a *  n) + b $\n",
    "- Drop constant $ time = a * n $ or $ time = O(n) $\n",
    "Where the $ Big O $ is order of $ n $"
   ]
  },
  {
   "cell_type": "code",
   "execution_count": null,
   "id": "72a7c30f",
   "metadata": {},
   "outputs": [],
   "source": []
  },
  {
   "cell_type": "code",
   "execution_count": 1,
   "id": "e95eda9b",
   "metadata": {},
   "outputs": [],
   "source": [
    "def get_squared(numbers):\n",
    "    squared_numbers = []\n",
    "    for i in numbers:\n",
    "        squared_numbers.append(i*i)\n",
    "    return squared_numbers\n",
    "## the time it takes the program is equally proportional to the number of computation its doing\n",
    "\n",
    "## Hence the computing is order of n, O(n)"
   ]
  },
  {
   "cell_type": "code",
   "execution_count": 2,
   "id": "7027de9d",
   "metadata": {},
   "outputs": [
    {
     "name": "stdout",
     "output_type": "stream",
     "text": [
      "[4, 25, 64, 81]\n",
      "CPU times: total: 0 ns\n",
      "Wall time: 0 ns\n"
     ]
    }
   ],
   "source": [
    "%%time\n",
    "print(get_squared([2,5,8,9]))"
   ]
  },
  {
   "cell_type": "code",
   "execution_count": 25,
   "id": "b66310ce",
   "metadata": {
    "scrolled": true
   },
   "outputs": [
    {
     "name": "stdout",
     "output_type": "stream",
     "text": [
      "1 6\n",
      "5 6\n"
     ]
    }
   ],
   "source": [
    "n = [3,6,2,4,3,6,8,9]\n",
    "duplicate = None\n",
    "for i in range(len(n)):\n",
    "    for j in range(i+1, len(n)):\n",
    "        if n[i] == n[j]:\n",
    "            duplicate = n[i]\n",
    "            break\n",
    "# This is having an order of n**2\n",
    "for i in range(len(n)):\n",
    "    if n[i] == duplicate:\n",
    "        print(i, duplicate)\n",
    "\n",
    "        \n",
    "\n",
    "# This is having n interations\n",
    "# time = (a*n**2) + b*n +c#\n",
    "# By following the rules, keep the fastest growing term and drop the constant\n",
    "# time = O(n**2)"
   ]
  },
  {
   "cell_type": "markdown",
   "id": "4313110d",
   "metadata": {},
   "source": [
    "#### Why did we use O(n**2) instead of n^2 + n\n",
    "Lets say we have an equation $ a*n^2 + b*n + c $\n",
    "In our case we can say let a to be 5 and b to 5 also and lastly our n and c is 1000 and 20 respectively\n",
    "\n",
    "Therefore our equation becomes $ 5*1000^2 + 5*1000 + 20 $\n",
    "From the equation we would have 5 * 1000^2, contributing the most to the equation\n",
    "$ 5,000,000 + 5000 + 20 $"
   ]
  },
  {
   "cell_type": "markdown",
   "id": "4f347472",
   "metadata": {},
   "source": [
    "### Linked List"
   ]
  },
  {
   "cell_type": "code",
   "execution_count": 4,
   "id": "82dc452f",
   "metadata": {},
   "outputs": [
    {
     "name": "stdout",
     "output_type": "stream",
     "text": [
      "\n",
      "42---->\n",
      "42---->92---->\n"
     ]
    }
   ],
   "source": []
  },
  {
   "cell_type": "code",
   "execution_count": null,
   "id": "3dec8402",
   "metadata": {},
   "outputs": [],
   "source": []
  },
  {
   "cell_type": "code",
   "execution_count": 27,
   "id": "78f6a90c",
   "metadata": {},
   "outputs": [
    {
     "name": "stdout",
     "output_type": "stream",
     "text": [
      "7\n",
      "8\n",
      "5\n"
     ]
    }
   ],
   "source": [
    "class Node:\n",
    "    def __init__(self, data=None,next=None):\n",
    "        self.data = data\n",
    "        self.next = next\n",
    "\n",
    "class Dummy:\n",
    "    def __init__(self):\n",
    "        self.head = None\n",
    "    def insert(self, data):\n",
    "        node = Node(data, self.head)\n",
    "        self.head = node\n",
    "    def print(self):\n",
    "        if self.head is None:\n",
    "            print(\"No value\")\n",
    "            return\n",
    "        while self.head:     \n",
    "            print(self.head.data)\n",
    "            self.head = self.head.next\n",
    "            \n",
    "d = Dummy()\n",
    "d.insert(5)\n",
    "d.insert(8)\n",
    "d.insert(7)\n",
    "\n",
    "d.print()\n"
   ]
  },
  {
   "cell_type": "code",
   "execution_count": 48,
   "id": "a41eae8b",
   "metadata": {},
   "outputs": [],
   "source": [
    "class Dummy:\n",
    "    def __init__(self, index):\n",
    "        self.data = set()\n",
    "        self.index = index\n",
    "    def insert_at_beginning(self,value):\n",
    "        self.data.add(value)\n",
    "    def print(self):\n",
    "        print(self.data)"
   ]
  },
  {
   "cell_type": "code",
   "execution_count": 53,
   "id": "05623afa",
   "metadata": {},
   "outputs": [
    {
     "name": "stdout",
     "output_type": "stream",
     "text": [
      "None\n"
     ]
    }
   ],
   "source": [
    "d = Dummy(0)\n",
    "print(d.insert_at_beginning(12))"
   ]
  }
 ],
 "metadata": {
  "kernelspec": {
   "display_name": "Python 3 (ipykernel)",
   "language": "python",
   "name": "python3"
  },
  "language_info": {
   "codemirror_mode": {
    "name": "ipython",
    "version": 3
   },
   "file_extension": ".py",
   "mimetype": "text/x-python",
   "name": "python",
   "nbconvert_exporter": "python",
   "pygments_lexer": "ipython3",
   "version": "3.10.9"
  }
 },
 "nbformat": 4,
 "nbformat_minor": 5
}
