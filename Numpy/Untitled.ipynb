{
 "cells": [
  {
   "cell_type": "code",
   "execution_count": 26,
   "id": "3a20c2bd",
   "metadata": {},
   "outputs": [
    {
     "data": {
      "text/plain": [
       "(2, 20)"
      ]
     },
     "execution_count": 26,
     "metadata": {},
     "output_type": "execute_result"
    }
   ],
   "source": [
    "import numpy as np\n",
    "# Numpy vs list\n",
    "# 5(Binary)->Int 32 in numpy, and you could specify its int8 or int16\n",
    "# Numpy read less bytes of memory\n",
    "# No type checking in numpy\n",
    "a = np.array([1,2,3,4,5]) #1 dimensional array\n",
    "b = np.array([[1,2,3,4],\n",
    "              [5,6,7,8]], dtype=\"int16\")\n",
    "# Dimension of array\n",
    "# b.ndim\n",
    "# a.shape\n",
    "\n",
    "# Get how much memory a numpy arrays take\n",
    "# Get type \n",
    "# b.dtype\n",
    "\n",
    "# Get size\n",
    "b.itemsize,a.nbytes"
   ]
  },
  {
   "cell_type": "markdown",
   "id": "aa16cd50",
   "metadata": {},
   "source": [
    "### Accessing/Changing specific elements, rows, columns, etc"
   ]
  },
  {
   "cell_type": "code",
   "execution_count": 68,
   "id": "3576a03d",
   "metadata": {},
   "outputs": [
    {
     "ename": "IndexError",
     "evalue": "too many indices for array: array is 2-dimensional, but 3 were indexed",
     "output_type": "error",
     "traceback": [
      "\u001b[1;31m---------------------------------------------------------------------------\u001b[0m",
      "\u001b[1;31mIndexError\u001b[0m                                Traceback (most recent call last)",
      "Cell \u001b[1;32mIn[68], line 8\u001b[0m\n\u001b[0;32m      4\u001b[0m b[\u001b[38;5;241m0\u001b[39m, :]\n\u001b[0;32m      5\u001b[0m \u001b[38;5;66;03m# Get a specific column\u001b[39;00m\n\u001b[0;32m      6\u001b[0m \u001b[38;5;66;03m# [startIndex:endIndex:stepSize]\u001b[39;00m\n\u001b[0;32m      7\u001b[0m \u001b[38;5;66;03m# b[1:, 0::1] = [9,5,6,12]\u001b[39;00m\n\u001b[1;32m----> 8\u001b[0m b[:,\u001b[38;5;241m1\u001b[39m, :] \u001b[38;5;241m=\u001b[39m [[\u001b[38;5;241m999\u001b[39m], [\u001b[38;5;241m8\u001b[39m,\u001b[38;5;241m8\u001b[39m]]\n",
      "\u001b[1;31mIndexError\u001b[0m: too many indices for array: array is 2-dimensional, but 3 were indexed"
     ]
    }
   ],
   "source": [
    "# Get a specific element\n",
    "b[1][0]\n",
    "# Get a specific row\n",
    "b[0, :]\n",
    "# Get a specific column\n",
    "# [startIndex:endIndex:stepSize]\n",
    "# b[1:, 0::1] = [9,5,6,12]"
   ]
  },
  {
   "cell_type": "markdown",
   "id": "2bf2df3f",
   "metadata": {},
   "source": [
    "### Initializing different types of arrays"
   ]
  },
  {
   "cell_type": "code",
   "execution_count": 117,
   "id": "0eaf2bd9",
   "metadata": {},
   "outputs": [
    {
     "data": {
      "text/plain": [
       "array([[1., 0., 0., 0., 0., 0.],\n",
       "       [0., 1., 0., 0., 0., 0.],\n",
       "       [0., 0., 1., 0., 0., 0.],\n",
       "       [0., 0., 0., 1., 0., 0.],\n",
       "       [0., 0., 0., 0., 1., 0.],\n",
       "       [0., 0., 0., 0., 0., 1.]])"
      ]
     },
     "execution_count": 117,
     "metadata": {},
     "output_type": "execute_result"
    }
   ],
   "source": [
    "np.zeros((2,3))\n",
    "np.ones((4,2,2), dtype=\"int32\")\n",
    "# np.full((2,2), 8, dtype=\"float16\")\n",
    "np.full_like(b.shape, 4)\n",
    "np.random.rand(4,2)\n",
    "np.random.random_sample(a.shape)\n",
    "np.random.randint(-100, 1, size=(3,3))\n",
    "np.identity(6)"
   ]
  },
  {
   "cell_type": "code",
   "execution_count": 131,
   "id": "2d0379ab",
   "metadata": {},
   "outputs": [
    {
     "data": {
      "text/plain": [
       "array([[1, 1, 1, 1, 2, 2, 2, 2, 3, 3, 3, 3],\n",
       "       [4, 4, 4, 4, 5, 5, 5, 5, 6, 6, 6, 6]])"
      ]
     },
     "execution_count": 131,
     "metadata": {},
     "output_type": "execute_result"
    }
   ],
   "source": [
    "arr = np.array([[1,2,3], [4,5,6]])\n",
    "r1 = np.repeat(arr, 4, axis=0)\n",
    "r1"
   ]
  },
  {
   "cell_type": "code",
   "execution_count": 160,
   "id": "5b0762bc",
   "metadata": {},
   "outputs": [
    {
     "data": {
      "text/plain": [
       "(array([100,   2,   3]), array([1, 2, 3]))"
      ]
     },
     "execution_count": 160,
     "metadata": {},
     "output_type": "execute_result"
    }
   ],
   "source": [
    "arrb = np.ones((5,5))\n",
    "arrb[1:-1, 1:-1], arrb[2,2] = 0, 9\n",
    "arrb\n",
    "b = np.array([1,2,3])\n",
    "a = b.copy()\n",
    "b[0] = 100\n",
    "b, a"
   ]
  },
  {
   "cell_type": "markdown",
   "id": "97781d55",
   "metadata": {},
   "source": [
    "### Mathematics"
   ]
  },
  {
   "cell_type": "code",
   "execution_count": 215,
   "id": "212542ab",
   "metadata": {},
   "outputs": [
    {
     "data": {
      "text/plain": [
       "array([1, 4])"
      ]
     },
     "execution_count": 215,
     "metadata": {},
     "output_type": "execute_result"
    }
   ],
   "source": [
    "a + b\n",
    "a / 2\n",
    "a // 2\n",
    "(a ** b).dtype\n",
    "# Linear Algebra\n",
    "d = np.full((2,3), 2)\n",
    "e = np.full((3,2), 4)\n",
    "np.matmul(d,e)\n",
    "\n",
    "c = np.identity(3)\n",
    "np.linalg.det(c)\n",
    "\n",
    "stats = np.array([[1,2,3,21],\n",
    "                  [4,5,6,10]])\n",
    "np.min(stats, axis=1)  "
   ]
  },
  {
   "cell_type": "markdown",
   "id": "4c43e98d",
   "metadata": {},
   "source": [
    "### Reoganizing Arrays"
   ]
  },
  {
   "cell_type": "code",
   "execution_count": 216,
   "id": "03071283",
   "metadata": {},
   "outputs": [
    {
     "data": {
      "text/plain": [
       "array([[ 1,  2,  3,  4],\n",
       "       [ 5,  6,  7,  8],\n",
       "       [ 1,  2,  3, 21],\n",
       "       [ 4,  5,  6, 10]])"
      ]
     },
     "execution_count": 216,
     "metadata": {},
     "output_type": "execute_result"
    }
   ],
   "source": [
    "before = np.array([[1,2,3,4], \n",
    "                   [5,6,7,8]])\n",
    "before.reshape(1,8)\n",
    "# STACKING\n",
    "np.vstack([before, stats])"
   ]
  },
  {
   "cell_type": "markdown",
   "id": "db38b2b4",
   "metadata": {},
   "source": [
    "### Load data from file"
   ]
  },
  {
   "cell_type": "code",
   "execution_count": 230,
   "id": "d669125c",
   "metadata": {},
   "outputs": [
    {
     "data": {
      "text/plain": [
       "(array([[0, 1, 1, 2, 2],\n",
       "        [3, 3, 4, 4, 5],\n",
       "        [5, 6, 6, 7, 7]], dtype=int32),\n",
       " array([[ 1,  2,  3,  4,  5],\n",
       "        [ 6,  7,  8,  9, 10],\n",
       "        [11, 12, 13, 14, 15]]))"
      ]
     },
     "execution_count": 230,
     "metadata": {},
     "output_type": "execute_result"
    }
   ],
   "source": [
    "data = np.genfromtxt(\"untitled.txt\", delimiter=\",\", dtype=\"int32\")"
   ]
  },
  {
   "cell_type": "markdown",
   "id": "b11c169f",
   "metadata": {},
   "source": [
    "### Boolean masking and Advancing Indexing"
   ]
  },
  {
   "cell_type": "code",
   "execution_count": 234,
   "id": "5f0791cd",
   "metadata": {},
   "outputs": [
    {
     "data": {
      "text/plain": [
       "array([False,  True,  True])"
      ]
     },
     "execution_count": 234,
     "metadata": {},
     "output_type": "execute_result"
    }
   ],
   "source": [
    "np.any(data > 5, axis=1)"
   ]
  }
 ],
 "metadata": {
  "kernelspec": {
   "display_name": "Python 3 (ipykernel)",
   "language": "python",
   "name": "python3"
  },
  "language_info": {
   "codemirror_mode": {
    "name": "ipython",
    "version": 3
   },
   "file_extension": ".py",
   "mimetype": "text/x-python",
   "name": "python",
   "nbconvert_exporter": "python",
   "pygments_lexer": "ipython3",
   "version": "3.10.9"
  }
 },
 "nbformat": 4,
 "nbformat_minor": 5
}
