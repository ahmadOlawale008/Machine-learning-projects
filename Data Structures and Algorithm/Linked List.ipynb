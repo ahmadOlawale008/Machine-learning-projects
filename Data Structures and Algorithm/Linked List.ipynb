{
 "cells": [
  {
   "cell_type": "markdown",
   "id": "643af62a",
   "metadata": {},
   "source": [
    "### Linked List"
   ]
  },
  {
   "cell_type": "code",
   "execution_count": 5,
   "id": "529e376f",
   "metadata": {},
   "outputs": [],
   "source": [
    "# My simple idea of Linked List\n",
    "class LinkedListSample:\n",
    "    def __init__(self, data, next=None, prev = None):\n",
    "        self.data = data\n",
    "        self.next = next\n",
    "        self.prev = prev\n",
    "LLSampleA = LinkedListSample(12)\n",
    "LLSampleB = LinkedListSample(13)\n",
    "LLSampleC = LinkedListSample(15)\n",
    "LLSampleD = LinkedListSample(30)\n",
    "LLSampleA.next = LLSampleB\n",
    "LLSampleB.next = LLSampleC\n",
    "LLSampleC.next = LLSampleD\n",
    "\n",
    "\n",
    "LLSampleD.prev = LLSampleC\n",
    "LLSampleC.prev = LLSampleB\n",
    "LLSampleB.prev = LLSampleA\n"
   ]
  },
  {
   "cell_type": "code",
   "execution_count": 405,
   "id": "e21d59f6",
   "metadata": {},
   "outputs": [],
   "source": [
    "class Node:\n",
    "    def __init__(self, data=None, next=None, prev=None):\n",
    "        self.data = data\n",
    "        self.next = next\n",
    "        self.prev = prev\n",
    "\n",
    "class LinkedList:\n",
    "    def __init__(self):\n",
    "        self.head = None\n",
    "    def insert_at_beginning(self, data):\n",
    "        if self.head is None:\n",
    "            self.head = Node(data, self.head, None)\n",
    "        else:\n",
    "            node = Node(data, self.head)\n",
    "            self.head.prev = node\n",
    "            self.head = node\n",
    "    def insert_at_end(self, data):\n",
    "        curNode = self.head\n",
    "        if self.head is None:\n",
    "            self.head = Node(data, None, None)\n",
    "            return\n",
    "        while curNode.next:\n",
    "            curNode = curNode.next\n",
    "        curNode.next = Node(data, None, curNode)\n",
    "    def get_last_item_node(self):\n",
    "        curNode = self.head\n",
    "        while curNode.next:\n",
    "            curNode = curNode.next\n",
    "        return curNode\n",
    "    def get_last_item(self) -> int:\n",
    "        return self.get_element_by_index(self.len() - 1)\n",
    "    def insert_multiple_values(self, data_lists):\n",
    "        self.head = None\n",
    "        for data in data_lists:\n",
    "            self.insert_at_end(data)\n",
    "    def len(self):\n",
    "        total_length = 1\n",
    "        curNode = self.head\n",
    "        if curNode is None:\n",
    "            print(0)\n",
    "            return 0\n",
    "        while curNode.next:\n",
    "            total_length += 1\n",
    "            curNode = curNode.next\n",
    "        return total_length\n",
    "    def remove_element_at(self, index):\n",
    "        total_len = self.len()\n",
    "        counter = 0\n",
    "        curNode = self.head\n",
    "        if index >= total_len or index < 0:\n",
    "            raise Exception(\"Linked list index out of range\")\n",
    "            return\n",
    "        if index == 0:\n",
    "            self.head = self.head.next\n",
    "            return\n",
    "        while curNode.next:\n",
    "            if counter == index - 1:\n",
    "                if curNode.next.next:\n",
    "                    curNode.next = curNode.next.next\n",
    "                    counter += 1\n",
    "                else:\n",
    "                    curNode.next = None\n",
    "                    break\n",
    "                continue\n",
    "            curNode = curNode.next\n",
    "            counter += 1\n",
    "\n",
    "    def get_element_position(self, data):\n",
    "        curNode = self.head\n",
    "        if self.head and self.head.data == data:\n",
    "            return 0\n",
    "        counter = 1\n",
    "        found = False\n",
    "        while curNode.next:\n",
    "            if curNode.next.data == data:\n",
    "                found = True\n",
    "                break\n",
    "            counter += 1\n",
    "            curNode = curNode.next\n",
    "        if found == True:\n",
    "            return counter\n",
    "        else:\n",
    "            return -1\n",
    "\n",
    "    def get_element_by_index(self, index):\n",
    "        total_len = self.len()\n",
    "        if index >= total_len -1 or index < 0:\n",
    "            raise Exception(\"Linked list index is out of range\")\n",
    "        if index == 0:\n",
    "            return self.head.data\n",
    "        curNode = self.head\n",
    "        counter = 0\n",
    "        data = -1\n",
    "        while curNode.next:\n",
    "            if counter == index - 1:\n",
    "                data = curNode.next.data\n",
    "                break\n",
    "            counter += 1\n",
    "            curNode = curNode.next\n",
    "        return data\n",
    "\n",
    "    def insert_after_value(self, value_after, data_to_insert):\n",
    "        find_item = self.get_element_position(value_after)\n",
    "        if find_item == -1:\n",
    "            raise Exception(\"Value_after does not exist\")\n",
    "        else:\n",
    "            curNode = self.head\n",
    "            while curNode.next:\n",
    "                if curNode.next.data == value_after:\n",
    "                    if curNode.next.next:\n",
    "                        curNode = Node(data_to_insert, curNode.next.next, curNode)\n",
    "                    else:\n",
    "                        curNode = Node(data_to_insert, None, curNode)\n",
    "                    break\n",
    "                curNode = curNode.next\n",
    "\n",
    "    def remove_by_value(self, data):\n",
    "        find_item = self.get_element_position(data)\n",
    "        if find_item == -1:\n",
    "            raise Exception(\"Value_after does not exist\")\n",
    "        else:\n",
    "            if self.head.data == data:\n",
    "                self.remove_element_at(0)\n",
    "                return\n",
    "            data_posit = self.get_element_position(data)\n",
    "            self.remove_element_at(data_posit)\n",
    "            return\n",
    "\n",
    "    def insert_at_index(self, index, value):\n",
    "        total_len = self.len()\n",
    "        if index > total_len or index < 0:\n",
    "            raise Exception(\"Linked list index out of range\")\n",
    "        counter = 0\n",
    "        if index == 0:\n",
    "            self.head = Node(value, self.head)\n",
    "            return\n",
    "        curNode = self.head\n",
    "        while True:\n",
    "            if counter == index - 1:\n",
    "                node = Node(value, curNode.next)\n",
    "                curNode.next = node\n",
    "                curNode.prev = node\n",
    "                break\n",
    "            if counter >= total_len:\n",
    "                break\n",
    "            curNode = curNode.next\n",
    "            counter += 1\n",
    "\n",
    "    def flush(self):\n",
    "        self.head = None\n",
    "\n",
    "    def print_forward(self):\n",
    "        curNode = self.head\n",
    "        result = \"\"\n",
    "        if curNode is None:\n",
    "            print(\"->\")\n",
    "            return\n",
    "        while True:\n",
    "            result += f\"{curNode.data}->\"\n",
    "            if curNode.next is None:\n",
    "                break\n",
    "            curNode = curNode.next\n",
    "        print(result)\n",
    "\n",
    "    def print_backward(self):\n",
    "        result = \"\"\n",
    "        if self.head is None:\n",
    "            print(\"<-\")\n",
    "        last_node = self.get_last_item_node()\n",
    "        while True:\n",
    "            result += f\"<-{last_node.data}\"\n",
    "            if last_node.prev is None:\n",
    "                break\n",
    "            last_node = last_node.prev\n",
    "        print(result)"
   ]
  },
  {
   "cell_type": "markdown",
   "id": "53b7d668",
   "metadata": {},
   "source": [
    "76(Next,None)\n",
    "\n",
    "76(Next, None)->12(Next, prev)\n",
    "\n",
    "76(Next, None)->12(Next, prev)->18(None, prev)"
   ]
  },
  {
   "cell_type": "code",
   "execution_count": 408,
   "id": "3d20eab7",
   "metadata": {},
   "outputs": [
    {
     "name": "stdout",
     "output_type": "stream",
     "text": [
      "98->30->76->12->398->\n"
     ]
    },
    {
     "data": {
      "text/plain": [
       "5"
      ]
     },
     "execution_count": 408,
     "metadata": {},
     "output_type": "execute_result"
    }
   ],
   "source": [
    "dl = LinkedList()\n",
    "dl.insert_at_beginning(12)\n",
    "dl.insert_at_beginning(76)\n",
    "dl.insert_at_beginning(98)\n",
    "dl.insert_at_end(398)\n",
    "dl.insert_at_index(1, 30)\n",
    "dl.print_forward()\n",
    "dl.len()\n"
   ]
  },
  {
   "cell_type": "code",
   "execution_count": 409,
   "id": "47d3af26",
   "metadata": {},
   "outputs": [
    {
     "name": "stdout",
     "output_type": "stream",
     "text": [
      "<-398<-12<-76<-98<-30\n"
     ]
    }
   ],
   "source": [
    "dl.print_backward()"
   ]
  },
  {
   "cell_type": "code",
   "execution_count": 268,
   "id": "6dcafdd5",
   "metadata": {},
   "outputs": [
    {
     "name": "stdout",
     "output_type": "stream",
     "text": [
      "<-12<-76\n"
     ]
    }
   ],
   "source": [
    "dl.print_backward()"
   ]
  },
  {
   "cell_type": "code",
   "execution_count": null,
   "id": "1ac046eb",
   "metadata": {},
   "outputs": [],
   "source": []
  }
 ],
 "metadata": {
  "kernelspec": {
   "display_name": "Python 3 (ipykernel)",
   "language": "python",
   "name": "python3"
  },
  "language_info": {
   "codemirror_mode": {
    "name": "ipython",
    "version": 3
   },
   "file_extension": ".py",
   "mimetype": "text/x-python",
   "name": "python",
   "nbconvert_exporter": "python",
   "pygments_lexer": "ipython3",
   "version": "3.12.2"
  }
 },
 "nbformat": 4,
 "nbformat_minor": 5
}
