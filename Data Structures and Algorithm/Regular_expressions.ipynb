{
 "cells": [
  {
   "cell_type": "code",
   "execution_count": 35,
   "metadata": {},
   "outputs": [],
   "source": [
    "import re\n",
    "urls = \"https://python-engineer.com\"\n",
    "urlB = \"http://www.pyeng.net\""
   ]
  },
  {
   "cell_type": "code",
   "execution_count": null,
   "metadata": {},
   "outputs": [],
   "source": []
  },
  {
   "cell_type": "code",
   "execution_count": null,
   "metadata": {},
   "outputs": [],
   "source": []
  },
  {
   "cell_type": "code",
   "execution_count": 36,
   "metadata": {},
   "outputs": [
    {
     "name": "stdout",
     "output_type": "stream",
     "text": [
      "123\n",
      "123\n"
     ]
    }
   ],
   "source": [
    "test_string = '123abc45678abc9123ABC'\n",
    "matches = re.finditer(r'123',test_string)\n",
    "for match in matches:\n",
    "    print(match.group())"
   ]
  },
  {
   "cell_type": "markdown",
   "metadata": {},
   "source": [
    "All meta characters: . ^ $ * + ? { } [ ] \\ | ( )\n",
    "\n",
    "1.  \\. Any character (except new line)\n",
    "2. ^ Starts with \n",
    "3. $ Ends with \n",
    "4. \\* Zero or more occurences\n",
    "5. \\+ One or more occurences\n",
    "6. { } Exactly the same specified number of occurences\n",
    "7. [ ] A set of characters\n",
    "8. \\ Special sequence (or escape special charcters) \"\\d\"\n",
    "9. Either or \"falls|stays\"\n",
    "10. Capture and group\n",
    "\n",
    "\n",
    "\n",
    "11. \\d: Matches any decimal digit; [0-9]\n",
    "12. \\D: Matches any non-digit character\n",
    "13. \\s: Matches any whitespace character: (Space \" \" tab \"\\t\")\n",
    "14. \\S: Matches any non whitespace character\n",
    "15. \\w: Matches any alphanumeric (word) character: [a-zA-Z0-9_]\n",
    "16. \\W: Matches any non alpha numeric character\n",
    "17. \\b Matches where the specified characters are at the beginning or at the end of a word\n",
    "18. \\B Matches where the specified charcters are present, but NOT at the beginning (at the end)"
   ]
  },
  {
   "cell_type": "code",
   "execution_count": 95,
   "metadata": {},
   "outputs": [
    {
     "name": "stdout",
     "output_type": "stream",
     "text": [
      "<re.Match object; span=(13, 16), match='hey'>\n",
      "<re.Match object; span=(21, 24), match='hey'>\n"
     ]
    }
   ],
   "source": [
    "test_stringB = 'hello (*&123_heyho hohey'\n",
    "pattern = re.compile(r'\\Bhey')\n",
    "matches = pattern.finditer(test_stringB)\n",
    "for match in matches:\n",
    "    print(match)"
   ]
  },
  {
   "cell_type": "code",
   "execution_count": 170,
   "metadata": {},
   "outputs": [
    {
     "name": "stdout",
     "output_type": "stream",
     "text": [
      "<re.Match object; span=(0, 4), match='hell'>\n",
      "<re.Match object; span=(9, 14), match='_dave'>\n"
     ]
    }
   ],
   "source": [
    "test_stringB = \"hello 123_dave_145\"\n",
    "pattern = re.compile(r\"_?[a-z]{4}\")\n",
    "matches = pattern.finditer(test_stringB)\n",
    "for match in matches:\n",
    "    print(match)"
   ]
  },
  {
   "cell_type": "code",
   "execution_count": 192,
   "metadata": {},
   "outputs": [],
   "source": [
    "dates = \"\"\"\n",
    "hello\n",
    "01.04.2020\n",
    "2020.04.01\n",
    "2020-04-01\n",
    "2020-05-23\n",
    "2020-06-11\n",
    "2020-07-11\n",
    "2020-08-11\n",
    "\n",
    "2020/04/02\n",
    "\n",
    "2020_04_04\n",
    "2020_04_04\n",
    "2025-10_12\n",
    "\"\"\""
   ]
  },
  {
   "cell_type": "code",
   "execution_count": 310,
   "metadata": {},
   "outputs": [
    {
     "name": "stdout",
     "output_type": "stream",
     "text": [
      "<re.Match object; span=(1, 11), match='Mr Simpson'>\n",
      "<re.Match object; span=(12, 23), match='Mrs Simpson'>\n",
      "<re.Match object; span=(24, 33), match='Mr. Brown'>\n",
      "<re.Match object; span=(34, 42), match='Mr Smith'>\n",
      "<re.Match object; span=(43, 49), match='Mrs. T'>\n",
      "<re.Match object; span=(50, 57), match='Ms John'>\n"
     ]
    }
   ],
   "source": [
    "my_str = \"\"\"\n",
    "Mr Simpson\n",
    "Mrs Simpson\n",
    "Mr. Brown\n",
    "Mr Smith\n",
    "Mrs. T Ms John\n",
    "\"\"\"\n",
    "pattern = re.compile(r\"(Mr|Mrs|Ms)\\.?\\s\\w*\\S\")\n",
    "match = pattern.finditer(my_str)\n",
    "for i in match:\n",
    "    print(i)"
   ]
  },
  {
   "cell_type": "code",
   "execution_count": 351,
   "metadata": {},
   "outputs": [
    {
     "name": "stdout",
     "output_type": "stream",
     "text": [
      "pythonengineer@gmail.com\n",
      "python-engineer@gmx.de\n",
      "python-engineer123@my-domain.org\n",
      "['', 'pythonengineer', 'gmail', 'com', 'com', '\\n', 'python-engineer', 'gmx', 'de', 'de', '\\n', 'python-engineer123', 'my-domain', 'org', 'org', '']\n"
     ]
    }
   ],
   "source": [
    "python_urls = \"\"\"\n",
    "pythonengineer@gmail.com\n",
    "python-engineer@gmx.de\n",
    "python-engineer123@my-domain.org\n",
    "\"\"\"\n",
    "pattern = re.compile(r\"([a-zA-Z0-9-]+)@([a-zA-Z-]+)\\.((com|org|de))\")\n",
    "match = pattern.finditer(python_urls)\n",
    "for i in match:\n",
    "    print(i.group(0))\n",
    "print(pattern.split(python_urls.strip()))"
   ]
  },
  {
   "cell_type": "code",
   "execution_count": 383,
   "metadata": {},
   "outputs": [
    {
     "name": "stdout",
     "output_type": "stream",
     "text": [
      "http://python-engineer.com\n",
      "https://www.python-engineer.com\n",
      "http://www.pyeng.net\n"
     ]
    }
   ],
   "source": [
    "urls =\"\"\"\n",
    "hello\n",
    "2020-05-20\n",
    "http://python-engineer.com\n",
    "https://www.python-engineer.com\n",
    "http://www.pyeng.net\n",
    "\"\"\"\n",
    "\n",
    "pattern = re.compile(r\"https?://(www\\.)?([a-zA-Z-]+)\\.(com|net)\")\n",
    "match = pattern.finditer(urls)\n",
    "for i in match:\n",
    "    print(i.group(0))"
   ]
  },
  {
   "cell_type": "code",
   "execution_count": 17,
   "metadata": {},
   "outputs": [
    {
     "name": "stdout",
     "output_type": "stream",
     "text": [
      "None\n"
     ]
    }
   ],
   "source": []
  }
 ],
 "metadata": {
  "kernelspec": {
   "display_name": "Python 3",
   "language": "python",
   "name": "python3"
  },
  "language_info": {
   "codemirror_mode": {
    "name": "ipython",
    "version": 3
   },
   "file_extension": ".py",
   "mimetype": "text/x-python",
   "name": "python",
   "nbconvert_exporter": "python",
   "pygments_lexer": "ipython3",
   "version": "3.12.2"
  }
 },
 "nbformat": 4,
 "nbformat_minor": 2
}
