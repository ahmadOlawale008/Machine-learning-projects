{
 "cells": [
  {
   "cell_type": "code",
   "execution_count": 1,
   "id": "311ef876",
   "metadata": {},
   "outputs": [],
   "source": [
    "import pandas as pd\n",
    "import numpy as np\n",
    "import seaborn as sns\n",
    "import matplotlib.pyplot as plt\n",
    "\n",
    "%matplotlib inline\n",
    "sns.set_style(\"whitegrid\")\n",
    "pd.set_option('display.max_columns', 100)\n",
    "plt.rcParams['font.size'] = 10"
   ]
  },
  {
   "cell_type": "markdown",
   "id": "aac43db0",
   "metadata": {},
   "source": [
    "### Inspection"
   ]
  },
  {
   "cell_type": "code",
   "execution_count": 2,
   "id": "8550bedb",
   "metadata": {},
   "outputs": [],
   "source": [
    "gender_df = pd.read_csv(\"gender_submission.csv\")"
   ]
  },
  {
   "cell_type": "code",
   "execution_count": 3,
   "id": "c8cbe71c",
   "metadata": {},
   "outputs": [
    {
     "data": {
      "text/html": [
       "<div>\n",
       "<style scoped>\n",
       "    .dataframe tbody tr th:only-of-type {\n",
       "        vertical-align: middle;\n",
       "    }\n",
       "\n",
       "    .dataframe tbody tr th {\n",
       "        vertical-align: top;\n",
       "    }\n",
       "\n",
       "    .dataframe thead th {\n",
       "        text-align: right;\n",
       "    }\n",
       "</style>\n",
       "<table border=\"1\" class=\"dataframe\">\n",
       "  <thead>\n",
       "    <tr style=\"text-align: right;\">\n",
       "      <th></th>\n",
       "      <th>PassengerId</th>\n",
       "      <th>Survived</th>\n",
       "    </tr>\n",
       "  </thead>\n",
       "  <tbody>\n",
       "    <tr>\n",
       "      <th>0</th>\n",
       "      <td>892</td>\n",
       "      <td>0</td>\n",
       "    </tr>\n",
       "    <tr>\n",
       "      <th>1</th>\n",
       "      <td>893</td>\n",
       "      <td>1</td>\n",
       "    </tr>\n",
       "    <tr>\n",
       "      <th>2</th>\n",
       "      <td>894</td>\n",
       "      <td>0</td>\n",
       "    </tr>\n",
       "    <tr>\n",
       "      <th>3</th>\n",
       "      <td>895</td>\n",
       "      <td>0</td>\n",
       "    </tr>\n",
       "    <tr>\n",
       "      <th>4</th>\n",
       "      <td>896</td>\n",
       "      <td>1</td>\n",
       "    </tr>\n",
       "    <tr>\n",
       "      <th>...</th>\n",
       "      <td>...</td>\n",
       "      <td>...</td>\n",
       "    </tr>\n",
       "    <tr>\n",
       "      <th>413</th>\n",
       "      <td>1305</td>\n",
       "      <td>0</td>\n",
       "    </tr>\n",
       "    <tr>\n",
       "      <th>414</th>\n",
       "      <td>1306</td>\n",
       "      <td>1</td>\n",
       "    </tr>\n",
       "    <tr>\n",
       "      <th>415</th>\n",
       "      <td>1307</td>\n",
       "      <td>0</td>\n",
       "    </tr>\n",
       "    <tr>\n",
       "      <th>416</th>\n",
       "      <td>1308</td>\n",
       "      <td>0</td>\n",
       "    </tr>\n",
       "    <tr>\n",
       "      <th>417</th>\n",
       "      <td>1309</td>\n",
       "      <td>0</td>\n",
       "    </tr>\n",
       "  </tbody>\n",
       "</table>\n",
       "<p>418 rows × 2 columns</p>\n",
       "</div>"
      ],
      "text/plain": [
       "     PassengerId  Survived\n",
       "0            892         0\n",
       "1            893         1\n",
       "2            894         0\n",
       "3            895         0\n",
       "4            896         1\n",
       "..           ...       ...\n",
       "413         1305         0\n",
       "414         1306         1\n",
       "415         1307         0\n",
       "416         1308         0\n",
       "417         1309         0\n",
       "\n",
       "[418 rows x 2 columns]"
      ]
     },
     "execution_count": 3,
     "metadata": {},
     "output_type": "execute_result"
    }
   ],
   "source": [
    "gender_df"
   ]
  },
  {
   "cell_type": "code",
   "execution_count": 4,
   "id": "d97f50ed",
   "metadata": {},
   "outputs": [],
   "source": [
    "test_df = pd.read_csv(\"test.csv\")"
   ]
  },
  {
   "cell_type": "code",
   "execution_count": 5,
   "id": "550a8adb",
   "metadata": {},
   "outputs": [
    {
     "data": {
      "text/html": [
       "<div>\n",
       "<style scoped>\n",
       "    .dataframe tbody tr th:only-of-type {\n",
       "        vertical-align: middle;\n",
       "    }\n",
       "\n",
       "    .dataframe tbody tr th {\n",
       "        vertical-align: top;\n",
       "    }\n",
       "\n",
       "    .dataframe thead th {\n",
       "        text-align: right;\n",
       "    }\n",
       "</style>\n",
       "<table border=\"1\" class=\"dataframe\">\n",
       "  <thead>\n",
       "    <tr style=\"text-align: right;\">\n",
       "      <th></th>\n",
       "      <th>PassengerId</th>\n",
       "      <th>Pclass</th>\n",
       "      <th>Name</th>\n",
       "      <th>Sex</th>\n",
       "      <th>Age</th>\n",
       "      <th>SibSp</th>\n",
       "      <th>Parch</th>\n",
       "      <th>Ticket</th>\n",
       "      <th>Fare</th>\n",
       "      <th>Cabin</th>\n",
       "      <th>Embarked</th>\n",
       "    </tr>\n",
       "  </thead>\n",
       "  <tbody>\n",
       "    <tr>\n",
       "      <th>0</th>\n",
       "      <td>892</td>\n",
       "      <td>3</td>\n",
       "      <td>Kelly, Mr. James</td>\n",
       "      <td>male</td>\n",
       "      <td>34.5</td>\n",
       "      <td>0</td>\n",
       "      <td>0</td>\n",
       "      <td>330911</td>\n",
       "      <td>7.8292</td>\n",
       "      <td>NaN</td>\n",
       "      <td>Q</td>\n",
       "    </tr>\n",
       "    <tr>\n",
       "      <th>1</th>\n",
       "      <td>893</td>\n",
       "      <td>3</td>\n",
       "      <td>Wilkes, Mrs. James (Ellen Needs)</td>\n",
       "      <td>female</td>\n",
       "      <td>47.0</td>\n",
       "      <td>1</td>\n",
       "      <td>0</td>\n",
       "      <td>363272</td>\n",
       "      <td>7.0000</td>\n",
       "      <td>NaN</td>\n",
       "      <td>S</td>\n",
       "    </tr>\n",
       "    <tr>\n",
       "      <th>2</th>\n",
       "      <td>894</td>\n",
       "      <td>2</td>\n",
       "      <td>Myles, Mr. Thomas Francis</td>\n",
       "      <td>male</td>\n",
       "      <td>62.0</td>\n",
       "      <td>0</td>\n",
       "      <td>0</td>\n",
       "      <td>240276</td>\n",
       "      <td>9.6875</td>\n",
       "      <td>NaN</td>\n",
       "      <td>Q</td>\n",
       "    </tr>\n",
       "    <tr>\n",
       "      <th>3</th>\n",
       "      <td>895</td>\n",
       "      <td>3</td>\n",
       "      <td>Wirz, Mr. Albert</td>\n",
       "      <td>male</td>\n",
       "      <td>27.0</td>\n",
       "      <td>0</td>\n",
       "      <td>0</td>\n",
       "      <td>315154</td>\n",
       "      <td>8.6625</td>\n",
       "      <td>NaN</td>\n",
       "      <td>S</td>\n",
       "    </tr>\n",
       "    <tr>\n",
       "      <th>4</th>\n",
       "      <td>896</td>\n",
       "      <td>3</td>\n",
       "      <td>Hirvonen, Mrs. Alexander (Helga E Lindqvist)</td>\n",
       "      <td>female</td>\n",
       "      <td>22.0</td>\n",
       "      <td>1</td>\n",
       "      <td>1</td>\n",
       "      <td>3101298</td>\n",
       "      <td>12.2875</td>\n",
       "      <td>NaN</td>\n",
       "      <td>S</td>\n",
       "    </tr>\n",
       "    <tr>\n",
       "      <th>5</th>\n",
       "      <td>897</td>\n",
       "      <td>3</td>\n",
       "      <td>Svensson, Mr. Johan Cervin</td>\n",
       "      <td>male</td>\n",
       "      <td>14.0</td>\n",
       "      <td>0</td>\n",
       "      <td>0</td>\n",
       "      <td>7538</td>\n",
       "      <td>9.2250</td>\n",
       "      <td>NaN</td>\n",
       "      <td>S</td>\n",
       "    </tr>\n",
       "    <tr>\n",
       "      <th>6</th>\n",
       "      <td>898</td>\n",
       "      <td>3</td>\n",
       "      <td>Connolly, Miss. Kate</td>\n",
       "      <td>female</td>\n",
       "      <td>30.0</td>\n",
       "      <td>0</td>\n",
       "      <td>0</td>\n",
       "      <td>330972</td>\n",
       "      <td>7.6292</td>\n",
       "      <td>NaN</td>\n",
       "      <td>Q</td>\n",
       "    </tr>\n",
       "    <tr>\n",
       "      <th>7</th>\n",
       "      <td>899</td>\n",
       "      <td>2</td>\n",
       "      <td>Caldwell, Mr. Albert Francis</td>\n",
       "      <td>male</td>\n",
       "      <td>26.0</td>\n",
       "      <td>1</td>\n",
       "      <td>1</td>\n",
       "      <td>248738</td>\n",
       "      <td>29.0000</td>\n",
       "      <td>NaN</td>\n",
       "      <td>S</td>\n",
       "    </tr>\n",
       "    <tr>\n",
       "      <th>8</th>\n",
       "      <td>900</td>\n",
       "      <td>3</td>\n",
       "      <td>Abrahim, Mrs. Joseph (Sophie Halaut Easu)</td>\n",
       "      <td>female</td>\n",
       "      <td>18.0</td>\n",
       "      <td>0</td>\n",
       "      <td>0</td>\n",
       "      <td>2657</td>\n",
       "      <td>7.2292</td>\n",
       "      <td>NaN</td>\n",
       "      <td>C</td>\n",
       "    </tr>\n",
       "    <tr>\n",
       "      <th>9</th>\n",
       "      <td>901</td>\n",
       "      <td>3</td>\n",
       "      <td>Davies, Mr. John Samuel</td>\n",
       "      <td>male</td>\n",
       "      <td>21.0</td>\n",
       "      <td>2</td>\n",
       "      <td>0</td>\n",
       "      <td>A/4 48871</td>\n",
       "      <td>24.1500</td>\n",
       "      <td>NaN</td>\n",
       "      <td>S</td>\n",
       "    </tr>\n",
       "  </tbody>\n",
       "</table>\n",
       "</div>"
      ],
      "text/plain": [
       "   PassengerId  Pclass                                          Name     Sex  \\\n",
       "0          892       3                              Kelly, Mr. James    male   \n",
       "1          893       3              Wilkes, Mrs. James (Ellen Needs)  female   \n",
       "2          894       2                     Myles, Mr. Thomas Francis    male   \n",
       "3          895       3                              Wirz, Mr. Albert    male   \n",
       "4          896       3  Hirvonen, Mrs. Alexander (Helga E Lindqvist)  female   \n",
       "5          897       3                    Svensson, Mr. Johan Cervin    male   \n",
       "6          898       3                          Connolly, Miss. Kate  female   \n",
       "7          899       2                  Caldwell, Mr. Albert Francis    male   \n",
       "8          900       3     Abrahim, Mrs. Joseph (Sophie Halaut Easu)  female   \n",
       "9          901       3                       Davies, Mr. John Samuel    male   \n",
       "\n",
       "    Age  SibSp  Parch     Ticket     Fare Cabin Embarked  \n",
       "0  34.5      0      0     330911   7.8292   NaN        Q  \n",
       "1  47.0      1      0     363272   7.0000   NaN        S  \n",
       "2  62.0      0      0     240276   9.6875   NaN        Q  \n",
       "3  27.0      0      0     315154   8.6625   NaN        S  \n",
       "4  22.0      1      1    3101298  12.2875   NaN        S  \n",
       "5  14.0      0      0       7538   9.2250   NaN        S  \n",
       "6  30.0      0      0     330972   7.6292   NaN        Q  \n",
       "7  26.0      1      1     248738  29.0000   NaN        S  \n",
       "8  18.0      0      0       2657   7.2292   NaN        C  \n",
       "9  21.0      2      0  A/4 48871  24.1500   NaN        S  "
      ]
     },
     "execution_count": 5,
     "metadata": {},
     "output_type": "execute_result"
    }
   ],
   "source": [
    "test_df.head(10)"
   ]
  },
  {
   "cell_type": "code",
   "execution_count": 6,
   "id": "a8f7e20a",
   "metadata": {},
   "outputs": [],
   "source": [
    "train_df = pd.read_csv(\"train (3).csv\")"
   ]
  },
  {
   "cell_type": "code",
   "execution_count": 7,
   "id": "77bcbebe",
   "metadata": {},
   "outputs": [
    {
     "name": "stdout",
     "output_type": "stream",
     "text": [
      "<class 'pandas.core.frame.DataFrame'>\n",
      "RangeIndex: 418 entries, 0 to 417\n",
      "Data columns (total 2 columns):\n",
      " #   Column       Non-Null Count  Dtype\n",
      "---  ------       --------------  -----\n",
      " 0   PassengerId  418 non-null    int64\n",
      " 1   Survived     418 non-null    int64\n",
      "dtypes: int64(2)\n",
      "memory usage: 6.7 KB\n"
     ]
    }
   ],
   "source": [
    "gender_df.info()"
   ]
  },
  {
   "cell_type": "code",
   "execution_count": 8,
   "id": "21bf4a78",
   "metadata": {},
   "outputs": [
    {
     "data": {
      "text/plain": [
       "PassengerId      0\n",
       "Survived         0\n",
       "Pclass           0\n",
       "Name             0\n",
       "Sex              0\n",
       "Age            177\n",
       "SibSp            0\n",
       "Parch            0\n",
       "Ticket           0\n",
       "Fare             0\n",
       "Cabin          687\n",
       "Embarked         2\n",
       "dtype: int64"
      ]
     },
     "execution_count": 8,
     "metadata": {},
     "output_type": "execute_result"
    }
   ],
   "source": [
    "test_df.isna().sum()\n",
    "train_df.isna().sum()"
   ]
  },
  {
   "cell_type": "code",
   "execution_count": 9,
   "id": "14a3b7a7",
   "metadata": {},
   "outputs": [],
   "source": [
    "numerical_cols = test_df.select_dtypes(np.number).columns.tolist()[1:]\n",
    "categorical_cols = test_df.select_dtypes('object').columns.tolist()"
   ]
  },
  {
   "cell_type": "code",
   "execution_count": 10,
   "id": "9fc057eb",
   "metadata": {},
   "outputs": [
    {
     "data": {
      "text/plain": [
       "['Pclass',\n",
       " 'Age',\n",
       " 'SibSp',\n",
       " 'Parch',\n",
       " 'Fare',\n",
       " 'Name',\n",
       " 'Sex',\n",
       " 'Ticket',\n",
       " 'Cabin',\n",
       " 'Embarked']"
      ]
     },
     "execution_count": 10,
     "metadata": {},
     "output_type": "execute_result"
    }
   ],
   "source": [
    "input_cols = numerical_cols + categorical_cols\n",
    "input_cols"
   ]
  },
  {
   "cell_type": "code",
   "execution_count": 11,
   "id": "d2636632",
   "metadata": {},
   "outputs": [
    {
     "data": {
      "text/plain": [
       "Index(['Survived'], dtype='object')"
      ]
     },
     "execution_count": 11,
     "metadata": {},
     "output_type": "execute_result"
    }
   ],
   "source": [
    "target_cols = gender_df.columns[1:]\n",
    "target_cols"
   ]
  },
  {
   "cell_type": "code",
   "execution_count": 12,
   "id": "1f138c1f",
   "metadata": {},
   "outputs": [
    {
     "data": {
      "text/plain": [
       "Name        891\n",
       "Sex           2\n",
       "Ticket      681\n",
       "Cabin       147\n",
       "Embarked      3\n",
       "dtype: int64"
      ]
     },
     "execution_count": 12,
     "metadata": {},
     "output_type": "execute_result"
    }
   ],
   "source": [
    "\"\"\"\"  \n",
    "Each name serve as a unique identifier\n",
    "The sex has two unique values male and female \n",
    "\"\"\"\n",
    "train_df[categorical_cols].nunique()"
   ]
  },
  {
   "cell_type": "code",
   "execution_count": 13,
   "id": "253c0239",
   "metadata": {},
   "outputs": [
    {
     "data": {
      "text/plain": [
       "Name        418\n",
       "Sex           2\n",
       "Ticket      363\n",
       "Cabin        76\n",
       "Embarked      3\n",
       "dtype: int64"
      ]
     },
     "execution_count": 13,
     "metadata": {},
     "output_type": "execute_result"
    }
   ],
   "source": [
    "test_df[categorical_cols].nunique()"
   ]
  },
  {
   "cell_type": "code",
   "execution_count": 14,
   "id": "371b8186",
   "metadata": {},
   "outputs": [
    {
     "data": {
      "text/plain": [
       "Pclass      3\n",
       "Age        88\n",
       "SibSp       7\n",
       "Parch       7\n",
       "Fare      248\n",
       "dtype: int64"
      ]
     },
     "execution_count": 14,
     "metadata": {},
     "output_type": "execute_result"
    }
   ],
   "source": [
    "train_df[numerical_cols].nunique()\n",
    "# Passenger ID is a unique identifier for each row\n",
    "# Survived consist of either 0 = No, 1 = Yes\n",
    "# Pclass is the ticket class consisting of 1 = 1st, 2 = 2nd, 3 = 3rd"
   ]
  },
  {
   "cell_type": "code",
   "execution_count": 15,
   "id": "e3e12b18",
   "metadata": {},
   "outputs": [
    {
     "data": {
      "text/plain": [
       "Pclass      3\n",
       "Age        79\n",
       "SibSp       7\n",
       "Parch       8\n",
       "Fare      169\n",
       "dtype: int64"
      ]
     },
     "execution_count": 15,
     "metadata": {},
     "output_type": "execute_result"
    }
   ],
   "source": [
    "test_df[numerical_cols].nunique()"
   ]
  },
  {
   "cell_type": "markdown",
   "id": "ab480866",
   "metadata": {},
   "source": [
    "### Checking for missing values"
   ]
  },
  {
   "cell_type": "code",
   "execution_count": 16,
   "id": "8a9963d2",
   "metadata": {},
   "outputs": [
    {
     "data": {
      "text/plain": [
       "Name          0\n",
       "Sex           0\n",
       "Ticket        0\n",
       "Cabin       687\n",
       "Embarked      2\n",
       "dtype: int64"
      ]
     },
     "execution_count": 16,
     "metadata": {},
     "output_type": "execute_result"
    }
   ],
   "source": [
    "train_df[categorical_cols].isna().sum()"
   ]
  },
  {
   "cell_type": "code",
   "execution_count": 17,
   "id": "11298c12",
   "metadata": {},
   "outputs": [
    {
     "data": {
      "text/plain": [
       "Name          0\n",
       "Sex           0\n",
       "Ticket        0\n",
       "Cabin       327\n",
       "Embarked      0\n",
       "dtype: int64"
      ]
     },
     "execution_count": 17,
     "metadata": {},
     "output_type": "execute_result"
    }
   ],
   "source": [
    "test_df[categorical_cols].isna().sum()"
   ]
  },
  {
   "cell_type": "code",
   "execution_count": 18,
   "id": "9431d1ca",
   "metadata": {},
   "outputs": [
    {
     "data": {
      "text/plain": [
       "Pclass      0\n",
       "Age       177\n",
       "SibSp       0\n",
       "Parch       0\n",
       "Fare        0\n",
       "dtype: int64"
      ]
     },
     "execution_count": 18,
     "metadata": {},
     "output_type": "execute_result"
    }
   ],
   "source": [
    "train_df[numerical_cols].isna().sum()"
   ]
  },
  {
   "cell_type": "code",
   "execution_count": 19,
   "id": "c672214a",
   "metadata": {},
   "outputs": [
    {
     "data": {
      "text/plain": [
       "Pclass     0\n",
       "Age       86\n",
       "SibSp      0\n",
       "Parch      0\n",
       "Fare       1\n",
       "dtype: int64"
      ]
     },
     "execution_count": 19,
     "metadata": {},
     "output_type": "execute_result"
    }
   ],
   "source": [
    "test_df[numerical_cols].isna().sum()"
   ]
  },
  {
   "cell_type": "markdown",
   "id": "fbdb3596",
   "metadata": {},
   "source": [
    "### Filling in categorical variables with missing values i.e. for Embarked and Cabin"
   ]
  },
  {
   "cell_type": "code",
   "execution_count": 20,
   "id": "3d4358a6",
   "metadata": {},
   "outputs": [
    {
     "data": {
      "text/plain": [
       "array(['S', 'C', 'Q', nan], dtype=object)"
      ]
     },
     "execution_count": 20,
     "metadata": {},
     "output_type": "execute_result"
    }
   ],
   "source": [
    "train_df['Embarked'].unique()"
   ]
  },
  {
   "cell_type": "code",
   "execution_count": 21,
   "id": "6b37d3ae",
   "metadata": {},
   "outputs": [],
   "source": [
    "train_df['Embarked'] = train_df['Embarked'].fillna(\"Unknown\")"
   ]
  },
  {
   "cell_type": "code",
   "execution_count": 22,
   "id": "4a95c02b",
   "metadata": {},
   "outputs": [],
   "source": [
    "train_df['Cabin'] = train_df['Cabin'].fillna(\"Unknown\")"
   ]
  },
  {
   "cell_type": "code",
   "execution_count": 23,
   "id": "ceeb1abf",
   "metadata": {},
   "outputs": [],
   "source": [
    "test_df['Cabin'] = test_df['Cabin'].fillna(\"Unknown\")"
   ]
  },
  {
   "cell_type": "markdown",
   "id": "568cba8d",
   "metadata": {},
   "source": [
    "### Filling in numerical variables with missing values i.e. for Age"
   ]
  },
  {
   "cell_type": "markdown",
   "id": "4c50969d",
   "metadata": {},
   "source": [
    "## Missing data is also a data\n",
    "#### Preserving the missing values"
   ]
  },
  {
   "cell_type": "code",
   "execution_count": 24,
   "id": "06a7208b",
   "metadata": {},
   "outputs": [],
   "source": [
    "train_map = {False: 0, True: 1}\n",
    "train_df['Missing_age'] = train_df['Age'].isna().map(train_map)"
   ]
  },
  {
   "cell_type": "code",
   "execution_count": 25,
   "id": "6dd31217",
   "metadata": {},
   "outputs": [],
   "source": [
    "test_df['Missing_age'] = test_df['Age'].isna().map(train_map)"
   ]
  },
  {
   "cell_type": "code",
   "execution_count": 26,
   "id": "8530b40b",
   "metadata": {},
   "outputs": [
    {
     "data": {
      "text/html": [
       "<div>\n",
       "<style scoped>\n",
       "    .dataframe tbody tr th:only-of-type {\n",
       "        vertical-align: middle;\n",
       "    }\n",
       "\n",
       "    .dataframe tbody tr th {\n",
       "        vertical-align: top;\n",
       "    }\n",
       "\n",
       "    .dataframe thead th {\n",
       "        text-align: right;\n",
       "    }\n",
       "</style>\n",
       "<table border=\"1\" class=\"dataframe\">\n",
       "  <thead>\n",
       "    <tr style=\"text-align: right;\">\n",
       "      <th></th>\n",
       "      <th>PassengerId</th>\n",
       "      <th>Survived</th>\n",
       "      <th>Pclass</th>\n",
       "      <th>Name</th>\n",
       "      <th>Sex</th>\n",
       "      <th>Age</th>\n",
       "      <th>SibSp</th>\n",
       "      <th>Parch</th>\n",
       "      <th>Ticket</th>\n",
       "      <th>Fare</th>\n",
       "      <th>Cabin</th>\n",
       "      <th>Embarked</th>\n",
       "      <th>Missing_age</th>\n",
       "    </tr>\n",
       "  </thead>\n",
       "  <tbody>\n",
       "    <tr>\n",
       "      <th>886</th>\n",
       "      <td>887</td>\n",
       "      <td>0</td>\n",
       "      <td>2</td>\n",
       "      <td>Montvila, Rev. Juozas</td>\n",
       "      <td>male</td>\n",
       "      <td>27.0</td>\n",
       "      <td>0</td>\n",
       "      <td>0</td>\n",
       "      <td>211536</td>\n",
       "      <td>13.00</td>\n",
       "      <td>Unknown</td>\n",
       "      <td>S</td>\n",
       "      <td>0</td>\n",
       "    </tr>\n",
       "    <tr>\n",
       "      <th>887</th>\n",
       "      <td>888</td>\n",
       "      <td>1</td>\n",
       "      <td>1</td>\n",
       "      <td>Graham, Miss. Margaret Edith</td>\n",
       "      <td>female</td>\n",
       "      <td>19.0</td>\n",
       "      <td>0</td>\n",
       "      <td>0</td>\n",
       "      <td>112053</td>\n",
       "      <td>30.00</td>\n",
       "      <td>B42</td>\n",
       "      <td>S</td>\n",
       "      <td>0</td>\n",
       "    </tr>\n",
       "    <tr>\n",
       "      <th>888</th>\n",
       "      <td>889</td>\n",
       "      <td>0</td>\n",
       "      <td>3</td>\n",
       "      <td>Johnston, Miss. Catherine Helen \"Carrie\"</td>\n",
       "      <td>female</td>\n",
       "      <td>NaN</td>\n",
       "      <td>1</td>\n",
       "      <td>2</td>\n",
       "      <td>W./C. 6607</td>\n",
       "      <td>23.45</td>\n",
       "      <td>Unknown</td>\n",
       "      <td>S</td>\n",
       "      <td>1</td>\n",
       "    </tr>\n",
       "    <tr>\n",
       "      <th>889</th>\n",
       "      <td>890</td>\n",
       "      <td>1</td>\n",
       "      <td>1</td>\n",
       "      <td>Behr, Mr. Karl Howell</td>\n",
       "      <td>male</td>\n",
       "      <td>26.0</td>\n",
       "      <td>0</td>\n",
       "      <td>0</td>\n",
       "      <td>111369</td>\n",
       "      <td>30.00</td>\n",
       "      <td>C148</td>\n",
       "      <td>C</td>\n",
       "      <td>0</td>\n",
       "    </tr>\n",
       "    <tr>\n",
       "      <th>890</th>\n",
       "      <td>891</td>\n",
       "      <td>0</td>\n",
       "      <td>3</td>\n",
       "      <td>Dooley, Mr. Patrick</td>\n",
       "      <td>male</td>\n",
       "      <td>32.0</td>\n",
       "      <td>0</td>\n",
       "      <td>0</td>\n",
       "      <td>370376</td>\n",
       "      <td>7.75</td>\n",
       "      <td>Unknown</td>\n",
       "      <td>Q</td>\n",
       "      <td>0</td>\n",
       "    </tr>\n",
       "  </tbody>\n",
       "</table>\n",
       "</div>"
      ],
      "text/plain": [
       "     PassengerId  Survived  Pclass                                      Name  \\\n",
       "886          887         0       2                     Montvila, Rev. Juozas   \n",
       "887          888         1       1              Graham, Miss. Margaret Edith   \n",
       "888          889         0       3  Johnston, Miss. Catherine Helen \"Carrie\"   \n",
       "889          890         1       1                     Behr, Mr. Karl Howell   \n",
       "890          891         0       3                       Dooley, Mr. Patrick   \n",
       "\n",
       "        Sex   Age  SibSp  Parch      Ticket   Fare    Cabin Embarked  \\\n",
       "886    male  27.0      0      0      211536  13.00  Unknown        S   \n",
       "887  female  19.0      0      0      112053  30.00      B42        S   \n",
       "888  female   NaN      1      2  W./C. 6607  23.45  Unknown        S   \n",
       "889    male  26.0      0      0      111369  30.00     C148        C   \n",
       "890    male  32.0      0      0      370376   7.75  Unknown        Q   \n",
       "\n",
       "     Missing_age  \n",
       "886            0  \n",
       "887            0  \n",
       "888            1  \n",
       "889            0  \n",
       "890            0  "
      ]
     },
     "execution_count": 26,
     "metadata": {},
     "output_type": "execute_result"
    }
   ],
   "source": [
    "train_df.tail(5)"
   ]
  },
  {
   "cell_type": "code",
   "execution_count": 27,
   "id": "8f6b671b",
   "metadata": {},
   "outputs": [
    {
     "data": {
      "text/plain": [
       "177"
      ]
     },
     "execution_count": 27,
     "metadata": {},
     "output_type": "execute_result"
    }
   ],
   "source": [
    "train_df['Age'].isna().sum()"
   ]
  },
  {
   "cell_type": "code",
   "execution_count": 28,
   "id": "0582eda9",
   "metadata": {},
   "outputs": [
    {
     "data": {
      "text/plain": [
       "0                              Braund, Mr. Owen Harris\n",
       "1    Cumings, Mrs. John Bradley (Florence Briggs Th...\n",
       "2                               Heikkinen, Miss. Laina\n",
       "3         Futrelle, Mrs. Jacques Heath (Lily May Peel)\n",
       "4                             Allen, Mr. William Henry\n",
       "5                                     Moran, Mr. James\n",
       "6                              McCarthy, Mr. Timothy J\n",
       "7                       Palsson, Master. Gosta Leonard\n",
       "8    Johnson, Mrs. Oscar W (Elisabeth Vilhelmina Berg)\n",
       "9                  Nasser, Mrs. Nicholas (Adele Achem)\n",
       "Name: Name, dtype: object"
      ]
     },
     "execution_count": 28,
     "metadata": {},
     "output_type": "execute_result"
    }
   ],
   "source": [
    "train_df['Name'].head(10)"
   ]
  },
  {
   "cell_type": "code",
   "execution_count": 29,
   "id": "aec79eb3",
   "metadata": {},
   "outputs": [],
   "source": [
    "def insert_social_stats(df):\n",
    "    import re\n",
    "    import warnings\n",
    "\n",
    "    warnings.filterwarnings(\"ignore\", category=pd.errors.SettingWithCopyWarning)\n",
    "    social_status = [\"Mr\", \"Mrs\", \"Miss\", \"Master\", \"Dr\"]\n",
    "    df[\"Social_status\"] = \"Others\"\n",
    "    for i in range(0, len(df)):\n",
    "        if re.search(r\"\\bMr\\b\\.\", df[\"Name\"][i]):\n",
    "\n",
    "            df.loc[i, \"Social_status\"] = \"Mr\"\n",
    "\n",
    "        elif re.search(r\"\\bMrs\\b\\.\", df[\"Name\"][i]):\n",
    "\n",
    "            df.loc[i, \"Social_status\"] = \"Mrs\"\n",
    "\n",
    "        elif re.search(r\"\\bMiss\\b\\.\", df[\"Name\"][i]):\n",
    "\n",
    "            df.loc[i, \"Social_status\"] = \"Miss\"\n",
    "\n",
    "        elif re.search(r\"\\bMaster\\b\\.\", train_df[\"Name\"][i]):\n",
    "\n",
    "            df.loc[i, \"Social_status\"] = \"Master\"\n",
    "\n",
    "        elif re.search(r\"\\bDr\\b\\.\", df[\"Name\"][i]):\n",
    "\n",
    "            df.loc[i, \"Social_status\"] = \"Dr\"\n",
    "\n",
    "        else:\n",
    "            df.loc[i, \"Social_status\"] = \"Others\"\n",
    "    warnings.resetwarnings()"
   ]
  },
  {
   "cell_type": "code",
   "execution_count": 30,
   "id": "2a1e1b0c",
   "metadata": {},
   "outputs": [],
   "source": [
    "insert_social_stats(train_df)"
   ]
  },
  {
   "cell_type": "code",
   "execution_count": null,
   "id": "77307997",
   "metadata": {},
   "outputs": [],
   "source": [
    "insert_social_stats(test_df)"
   ]
  },
  {
   "cell_type": "code",
   "execution_count": null,
   "id": "e6bf44bf",
   "metadata": {},
   "outputs": [],
   "source": []
  },
  {
   "cell_type": "code",
   "execution_count": null,
   "id": "0853ad8f",
   "metadata": {},
   "outputs": [],
   "source": [
    "train_df[\"Social_status\"].value_counts()"
   ]
  },
  {
   "cell_type": "code",
   "execution_count": null,
   "id": "77e9dffd",
   "metadata": {},
   "outputs": [],
   "source": [
    "test_df[\"Social_status\"].value_counts()"
   ]
  },
  {
   "cell_type": "code",
   "execution_count": null,
   "id": "84df8ad2",
   "metadata": {},
   "outputs": [],
   "source": [
    "train_df[numerical_cols].nunique()"
   ]
  },
  {
   "cell_type": "code",
   "execution_count": null,
   "id": "e779b66e",
   "metadata": {},
   "outputs": [],
   "source": [
    "sns.catplot(\n",
    "    x=\"Survived\",\n",
    "    y=\"Age\",\n",
    "    hue=\"Social_status\",\n",
    "    data=train_df,\n",
    "    kind=\"strip\",\n",
    "    jitter=True,\n",
    "    order=[1, 0],\n",
    ")"
   ]
  },
  {
   "cell_type": "code",
   "execution_count": null,
   "id": "72a50e78",
   "metadata": {},
   "outputs": [],
   "source": [
    "sns.catplot(\n",
    "    x=\"Survived\",\n",
    "    y=\"Fare\",\n",
    "    hue=\"Social_status\",\n",
    "    data=train_df,\n",
    "    kind=\"bar\",\n",
    "    order=[1, 0],\n",
    ")"
   ]
  },
  {
   "cell_type": "code",
   "execution_count": null,
   "id": "1d9d6cf4",
   "metadata": {},
   "outputs": [],
   "source": [
    "train_df[train_df['Age'].isna()].head(10)"
   ]
  },
  {
   "cell_type": "markdown",
   "id": "15845689",
   "metadata": {},
   "source": [
    "#### Filling in Missed Ages based on their social status"
   ]
  },
  {
   "cell_type": "code",
   "execution_count": null,
   "id": "a60cc3b4",
   "metadata": {},
   "outputs": [],
   "source": [
    "import math\n",
    "def provide_age_based_on_social_stats(df): \n",
    "    missing_ = df['Age'].isna()\n",
    "    not_missing = df[~df['Age'].isna()]\n",
    "    _for_mr = not_missing[not_missing[\"Social_status\"] == \"Mr\"]\n",
    "    _for_mrs = not_missing[not_missing[\"Social_status\"] == \"Mrs\"]\n",
    "    _for_miss = not_missing[not_missing[\"Social_status\"] == \"Miss\"]\n",
    "    _for_master = not_missing[not_missing[\"Social_status\"] == \"Master\"]\n",
    "    _for_dr = not_missing[not_missing[\"Social_status\"] == \"Dr\"]\n",
    "    _for_others = not_missing[not_missing[\"Social_status\"] == \"Others\"]\n",
    "    \n",
    "    missing_df = df[missing_]\n",
    "    # Missing ages based on their social status\n",
    "    missing_for_mr = missing_df[missing_df[\"Social_status\"] == \"Mr\"]\n",
    "    missing_for_mrs = missing_df[missing_df[\"Social_status\"] == \"Mrs\"]\n",
    "    missing_for_miss = missing_df[missing_df[\"Social_status\"] == \"Miss\"]\n",
    "    missing_for_master = missing_df[missing_df[\"Social_status\"] == \"Master\"]\n",
    "    missing_for_dr = missing_df[missing_df[\"Social_status\"] == \"Dr\"]\n",
    "    missing_for_others = missing_df[missing_df[\"Social_status\"] == \"Others\"]\n",
    "    \n",
    "    # Replace missing\n",
    "    if not missing_for_mr.empty:\n",
    "        df.loc[missing_for_mr.index, \"Age\"] = math.floor(_for_mr['Age'].mean())\n",
    "    if not missing_for_mrs.empty:\n",
    "        df.loc[missing_for_mrs.index, \"Age\"] = math.floor(_for_mrs['Age'].mean())\n",
    "    if not missing_for_miss.empty:\n",
    "        df.loc[missing_for_miss.index, \"Age\"] = math.floor(_for_miss['Age'].mean())\n",
    "    if not missing_for_master.empty:\n",
    "        df.loc[missing_for_master.index, \"Age\"] = math.floor(_for_master['Age'].mean())\n",
    "    if not missing_for_dr.empty:\n",
    "        df.loc[missing_for_dr.index, \"Age\"] = math.floor(_for_dr['Age'].mean())\n",
    "    if not missing_for_others.empty:\n",
    "        df.loc[missing_for_others.index, \"Age\"] = math.floor(_for_others['Age'].mean())\n",
    "        \n",
    "    return df\n"
   ]
  },
  {
   "cell_type": "code",
   "execution_count": null,
   "id": "a27c834a",
   "metadata": {},
   "outputs": [],
   "source": [
    "provide_age_based_on_social_stats(train_df)"
   ]
  },
  {
   "cell_type": "code",
   "execution_count": null,
   "id": "b891b4b6",
   "metadata": {},
   "outputs": [],
   "source": [
    "provide_age_based_on_social_stats(test_df)"
   ]
  },
  {
   "cell_type": "code",
   "execution_count": null,
   "id": "e5e65913",
   "metadata": {},
   "outputs": [],
   "source": []
  },
  {
   "cell_type": "code",
   "execution_count": null,
   "id": "21d09712",
   "metadata": {},
   "outputs": [],
   "source": [
    "train_df[train_df['Age'].isna()]['Social_status'].value_counts()"
   ]
  },
  {
   "cell_type": "code",
   "execution_count": null,
   "id": "88cd7e80",
   "metadata": {},
   "outputs": [],
   "source": [
    "sns.relplot(x='Sex', y='Age', data=train_df, hue=\"Social_status\")"
   ]
  },
  {
   "cell_type": "code",
   "execution_count": null,
   "id": "7c961f8a",
   "metadata": {},
   "outputs": [],
   "source": [
    "from sklearn.impute import SimpleImputer\n",
    "imputer = SimpleImputer(strategy=\"mean\").fit(test_df[numerical_cols])"
   ]
  },
  {
   "cell_type": "code",
   "execution_count": null,
   "id": "28638f8e",
   "metadata": {},
   "outputs": [],
   "source": [
    "test_df[numerical_cols][\"Fare\"].mean()"
   ]
  },
  {
   "cell_type": "markdown",
   "id": "25da3aac",
   "metadata": {},
   "source": [
    "### Feature Enginneering"
   ]
  },
  {
   "cell_type": "markdown",
   "id": "ebde55b7",
   "metadata": {},
   "source": [
    "### Categorical Variables"
   ]
  },
  {
   "cell_type": "code",
   "execution_count": null,
   "id": "16dc98d6",
   "metadata": {},
   "outputs": [],
   "source": [
    "train_df[categorical_cols]['Embarked'].value_counts()"
   ]
  },
  {
   "cell_type": "code",
   "execution_count": null,
   "id": "4e0cb932",
   "metadata": {},
   "outputs": [],
   "source": [
    "train_df[\"Sex\"].value_counts()"
   ]
  },
  {
   "cell_type": "code",
   "execution_count": null,
   "id": "45742c8e",
   "metadata": {},
   "outputs": [],
   "source": [
    "sex_code = {\"male\": 1, \"female\": 0}\n",
    "train_df['Sex_code'] = train_df['Sex'].map(sex_code)"
   ]
  },
  {
   "cell_type": "code",
   "execution_count": null,
   "id": "0e0e58c1",
   "metadata": {},
   "outputs": [],
   "source": []
  },
  {
   "cell_type": "code",
   "execution_count": null,
   "id": "dfac5a31",
   "metadata": {},
   "outputs": [],
   "source": [
    "sns.catplot(train_df, x='Sex', kind='count')"
   ]
  },
  {
   "cell_type": "code",
   "execution_count": null,
   "id": "5710aba5",
   "metadata": {},
   "outputs": [],
   "source": [
    "train_df['Ticket'].nunique()"
   ]
  },
  {
   "cell_type": "code",
   "execution_count": null,
   "id": "344b7d1d",
   "metadata": {},
   "outputs": [],
   "source": [
    "train_df['Ticket'].value_counts()"
   ]
  },
  {
   "cell_type": "code",
   "execution_count": null,
   "id": "d52b1315",
   "metadata": {
    "scrolled": true
   },
   "outputs": [],
   "source": [
    "temp = train_df[\"Ticket\"].value_counts()\n",
    "train_df['Ticket_counts'] = train_df[\"Ticket\"].apply(lambda x: temp[x])"
   ]
  },
  {
   "cell_type": "code",
   "execution_count": null,
   "id": "e7707985",
   "metadata": {},
   "outputs": [],
   "source": [
    "train_df.tail(30)"
   ]
  },
  {
   "cell_type": "code",
   "execution_count": null,
   "id": "d5d23ebd",
   "metadata": {},
   "outputs": [],
   "source": []
  },
  {
   "cell_type": "code",
   "execution_count": null,
   "id": "c731316e",
   "metadata": {},
   "outputs": [],
   "source": [
    "len(train_df[train_df['Ticket_counts'] < 4])"
   ]
  },
  {
   "cell_type": "code",
   "execution_count": null,
   "id": "e2dd8623",
   "metadata": {},
   "outputs": [],
   "source": []
  },
  {
   "cell_type": "code",
   "execution_count": null,
   "id": "c102d04e",
   "metadata": {},
   "outputs": [],
   "source": []
  },
  {
   "cell_type": "code",
   "execution_count": null,
   "id": "b77a9a74",
   "metadata": {},
   "outputs": [],
   "source": [
    "for i in range(0, len(train_df)):\n",
    "    if train_df['Ticket_counts'][i] < 4:\n",
    "        train_df[\"Ticket\"][i] = \"Others\""
   ]
  },
  {
   "cell_type": "code",
   "execution_count": null,
   "id": "0dd06372",
   "metadata": {
    "scrolled": true
   },
   "outputs": [],
   "source": [
    "len(train_df[train_df['Ticket']  != \"Others\"])"
   ]
  },
  {
   "cell_type": "code",
   "execution_count": null,
   "id": "25c05f36",
   "metadata": {},
   "outputs": [],
   "source": [
    "train_df[categorical_cols].nunique()"
   ]
  },
  {
   "cell_type": "code",
   "execution_count": null,
   "id": "5815102d",
   "metadata": {},
   "outputs": [],
   "source": [
    "train_df['Embarked'].unique()"
   ]
  },
  {
   "cell_type": "code",
   "execution_count": null,
   "id": "81c41b4b",
   "metadata": {},
   "outputs": [],
   "source": [
    "train_df"
   ]
  },
  {
   "cell_type": "code",
   "execution_count": null,
   "id": "b9706e34",
   "metadata": {},
   "outputs": [],
   "source": [
    "test_df[[\"Ticket\", \"Embarked\", \"Cabin\"]].nunique()"
   ]
  }
 ],
 "metadata": {
  "kernelspec": {
   "display_name": "Python 3 (ipykernel)",
   "language": "python",
   "name": "python3"
  },
  "language_info": {
   "codemirror_mode": {
    "name": "ipython",
    "version": 3
   },
   "file_extension": ".py",
   "mimetype": "text/x-python",
   "name": "python",
   "nbconvert_exporter": "python",
   "pygments_lexer": "ipython3",
   "version": "3.10.9"
  }
 },
 "nbformat": 4,
 "nbformat_minor": 5
}
