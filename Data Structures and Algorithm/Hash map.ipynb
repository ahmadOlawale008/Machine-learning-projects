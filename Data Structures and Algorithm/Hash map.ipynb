{
 "cells": [
  {
   "cell_type": "markdown",
   "id": "749d1436",
   "metadata": {},
   "source": [
    "### Hashmap"
   ]
  },
  {
   "cell_type": "code",
   "execution_count": 1,
   "metadata": {},
   "outputs": [
    {
     "name": "stdout",
     "output_type": "stream",
     "text": [
      "CPU times: total: 0 ns\n",
      "Wall time: 0 ns\n"
     ]
    }
   ],
   "source": [
    "%%time\n",
    "stocks_prices = []\n",
    "with open(\"sample.txt\", \"r\") as file:\n",
    "    for line in file.readlines():\n",
    "        split = line.split(',')\n",
    "        day, amount = split[0], int(split[1].strip())\n",
    "        stocks_prices.append([day, amount])"
   ]
  },
  {
   "cell_type": "code",
   "execution_count": 2,
   "id": "ba30f6ec",
   "metadata": {},
   "outputs": [
    {
     "name": "stdout",
     "output_type": "stream",
     "text": [
      "CPU times: total: 0 ns\n",
      "Wall time: 0 ns\n"
     ]
    }
   ],
   "source": [
    "%%time\n",
    "\n",
    "stocks_prices = {}\n",
    "with open(\"sample.txt\", \"r\") as file:\n",
    "    for line in file.readlines():\n",
    "        split = line.split(\",\")\n",
    "        day, amount = split[0], int(split[1].strip())\n",
    "\n",
    "        stocks_prices[day] = amount"
   ]
  },
  {
   "cell_type": "code",
   "execution_count": 3,
   "metadata": {},
   "outputs": [
    {
     "data": {
      "text/plain": [
       "{'6-Mar': 310,\n",
       " '7-Mar': 340,\n",
       " '8-Mar': 380,\n",
       " '9-Mar': 302,\n",
       " '10-Mar': 297,\n",
       " '11-Mar': 323}"
      ]
     },
     "execution_count": 3,
     "metadata": {},
     "output_type": "execute_result"
    }
   ],
   "source": [
    "stocks_prices"
   ]
  },
  {
   "cell_type": "code",
   "execution_count": 10,
   "metadata": {},
   "outputs": [
    {
     "data": {
      "text/plain": [
       "(0.8999999999999986, 60.0)"
      ]
     },
     "execution_count": 10,
     "metadata": {},
     "output_type": "execute_result"
    }
   ],
   "source": [
    "import math\n",
    "math.modf(609/10)"
   ]
  },
  {
   "cell_type": "code",
   "execution_count": 380,
   "id": "c058f732",
   "metadata": {},
   "outputs": [],
   "source": [
    "class HashTable:\n",
    "    def __init__(self):\n",
    "        self.MAX = 100\n",
    "        self.arr = [[] for arr in list(range(0, self.MAX))]\n",
    "    def get_hash(self,key):\n",
    "        h = 0\n",
    "        for char in key:\n",
    "            h += ord(char)\n",
    "        return h % self.MAX\n",
    "    def __setitem__(self, key, val):\n",
    "        h = self.get_hash(key)\n",
    "        found = False\n",
    "        for index, element in enumerate(self.arr[h]):\n",
    "            if len(element) == 2 and element[0] == key:\n",
    "                self.arr[h][index] = (key, val)\n",
    "                found = True\n",
    "                break\n",
    "        if not found:\n",
    "            self.arr[h].append((key, val))\n",
    "        return (self.arr[h], \"mee\")\n",
    "    def __getitem__(self, key):\n",
    "        h = self.get_hash(key)\n",
    "        for e in self.arr[h]:\n",
    "            if e[0] == key:\n",
    "                return e[1]\n",
    "    def __delitem__(self, key):\n",
    "        h = self.get_hash(key)\n",
    "        for e in self.arr[h]:\n",
    "            if e[0] == key:\n",
    "                self.arr[h].remove(e)\n",
    "                break\n",
    "        return"
   ]
  },
  {
   "cell_type": "code",
   "execution_count": 387,
   "id": "f5dd2f1c",
   "metadata": {},
   "outputs": [],
   "source": [
    "hashM = HashTable()\n",
    "hashM[\"tea\"] = 9000\n",
    "hashM[\"ate\"] = \"Coffe\""
   ]
  },
  {
   "cell_type": "code",
   "execution_count": 388,
   "id": "996e6a06",
   "metadata": {},
   "outputs": [],
   "source": [
    "del hashM[\"ate\"]\n",
    "hashM[\"ate\"]"
   ]
  },
  {
   "cell_type": "code",
   "execution_count": 389,
   "id": "76ce82ed",
   "metadata": {},
   "outputs": [
    {
     "data": {
      "text/plain": [
       "[[],\n",
       " [],\n",
       " [],\n",
       " [],\n",
       " [],\n",
       " [],\n",
       " [],\n",
       " [],\n",
       " [],\n",
       " [],\n",
       " [],\n",
       " [],\n",
       " [],\n",
       " [],\n",
       " [('tea', 9000)],\n",
       " [],\n",
       " [],\n",
       " [],\n",
       " [],\n",
       " [],\n",
       " [],\n",
       " [],\n",
       " [],\n",
       " [],\n",
       " [],\n",
       " [],\n",
       " [],\n",
       " [],\n",
       " [],\n",
       " [],\n",
       " [],\n",
       " [],\n",
       " [],\n",
       " [],\n",
       " [],\n",
       " [],\n",
       " [],\n",
       " [],\n",
       " [],\n",
       " [],\n",
       " [],\n",
       " [],\n",
       " [],\n",
       " [],\n",
       " [],\n",
       " [],\n",
       " [],\n",
       " [],\n",
       " [],\n",
       " [],\n",
       " [],\n",
       " [],\n",
       " [],\n",
       " [],\n",
       " [],\n",
       " [],\n",
       " [],\n",
       " [],\n",
       " [],\n",
       " [],\n",
       " [],\n",
       " [],\n",
       " [],\n",
       " [],\n",
       " [],\n",
       " [],\n",
       " [],\n",
       " [],\n",
       " [],\n",
       " [],\n",
       " [],\n",
       " [],\n",
       " [],\n",
       " [],\n",
       " [],\n",
       " [],\n",
       " [],\n",
       " [],\n",
       " [],\n",
       " [],\n",
       " [],\n",
       " [],\n",
       " [],\n",
       " [],\n",
       " [],\n",
       " [],\n",
       " [],\n",
       " [],\n",
       " [],\n",
       " [],\n",
       " [],\n",
       " [],\n",
       " [],\n",
       " [],\n",
       " [],\n",
       " [],\n",
       " [],\n",
       " [],\n",
       " [],\n",
       " []]"
      ]
     },
     "execution_count": 389,
     "metadata": {},
     "output_type": "execute_result"
    }
   ],
   "source": [
    "hashM.arr"
   ]
  },
  {
   "cell_type": "code",
   "execution_count": null,
   "id": "ac686f29",
   "metadata": {},
   "outputs": [],
   "source": []
  },
  {
   "cell_type": "code",
   "execution_count": null,
   "id": "4ed98d1c",
   "metadata": {},
   "outputs": [],
   "source": []
  },
  {
   "cell_type": "code",
   "execution_count": 316,
   "id": "e75fbfcf",
   "metadata": {},
   "outputs": [
    {
     "data": {
      "text/plain": [
       "[('tea', 9000)]"
      ]
     },
     "execution_count": 316,
     "metadata": {},
     "output_type": "execute_result"
    }
   ],
   "source": [
    "a"
   ]
  },
  {
   "cell_type": "code",
   "execution_count": 233,
   "id": "47d970d2",
   "metadata": {},
   "outputs": [],
   "source": [
    "a = [(\"tea\", \"sample\"), (\"ate\", \"ayw\")]"
   ]
  },
  {
   "cell_type": "code",
   "execution_count": 246,
   "id": "e6fc49b3",
   "metadata": {},
   "outputs": [
    {
     "name": "stdout",
     "output_type": "stream",
     "text": [
      "sample\n"
     ]
    }
   ],
   "source": [
    "for i, e in enumerate(a):\n",
    "    if e[i] == \"tea\":\n",
    "        print (e[1])"
   ]
  },
  {
   "cell_type": "markdown",
   "id": "5107ca75",
   "metadata": {},
   "source": [
    "print(stocks_prices)"
   ]
  }
 ],
 "metadata": {
  "kernelspec": {
   "display_name": "Python 3",
   "language": "python",
   "name": "python3"
  },
  "language_info": {
   "codemirror_mode": {
    "name": "ipython",
    "version": 3
   },
   "file_extension": ".py",
   "mimetype": "text/x-python",
   "name": "python",
   "nbconvert_exporter": "python",
   "pygments_lexer": "ipython3",
   "version": "3.12.2"
  }
 },
 "nbformat": 4,
 "nbformat_minor": 5
}
