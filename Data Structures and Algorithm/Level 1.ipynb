{
 "cells": [
  {
   "cell_type": "markdown",
   "id": "d94fb527",
   "metadata": {},
   "source": [
    "#### Numbers\n",
    "Numbers has two main forms called integers and floating "
   ]
  },
  {
   "cell_type": "code",
   "execution_count": null,
   "id": "ff9ca195",
   "metadata": {},
   "outputs": [],
   "source": [
    "a = 5 # Integers\n",
    "b = 23.5 # Floats"
   ]
  },
  {
   "cell_type": "markdown",
   "id": "3b0e18d1",
   "metadata": {},
   "source": [
    "### Strings"
   ]
  },
  {
   "cell_type": "code",
   "execution_count": 1,
   "id": "c4958f56",
   "metadata": {},
   "outputs": [
    {
     "data": {
      "text/plain": [
       "'Hello'"
      ]
     },
     "execution_count": 1,
     "metadata": {},
     "output_type": "execute_result"
    }
   ],
   "source": [
    "'Hello'"
   ]
  },
  {
   "cell_type": "code",
   "execution_count": 31,
   "id": "bfa2e5d9",
   "metadata": {},
   "outputs": [],
   "source": [
    "myList = [1,2,3]\n",
    "myList = ['string', (1,2,3)]"
   ]
  },
  {
   "cell_type": "code",
   "execution_count": 32,
   "id": "851dafe6",
   "metadata": {},
   "outputs": [],
   "source": [
    "myList.append(\"dhurrr\")"
   ]
  },
  {
   "cell_type": "code",
   "execution_count": 33,
   "id": "31af75b8",
   "metadata": {},
   "outputs": [],
   "source": [
    "myList.append(['x', 'y', 'z'])"
   ]
  },
  {
   "cell_type": "code",
   "execution_count": 34,
   "id": "9e70d332",
   "metadata": {},
   "outputs": [],
   "source": [
    "myList.extend(['x', 'y', 'z'])"
   ]
  },
  {
   "cell_type": "code",
   "execution_count": 36,
   "id": "44f06ead",
   "metadata": {},
   "outputs": [
    {
     "data": {
      "text/plain": [
       "'z'"
      ]
     },
     "execution_count": 36,
     "metadata": {},
     "output_type": "execute_result"
    }
   ],
   "source": [
    "myList.pop(-1)"
   ]
  },
  {
   "cell_type": "code",
   "execution_count": 40,
   "id": "228311cf",
   "metadata": {},
   "outputs": [],
   "source": [
    "myList.reverse()"
   ]
  },
  {
   "cell_type": "code",
   "execution_count": 43,
   "id": "43adc15d",
   "metadata": {},
   "outputs": [
    {
     "data": {
      "text/plain": [
       "[1, 1, 3, 3, 5, 5, 5, 7, 9, 122]"
      ]
     },
     "execution_count": 43,
     "metadata": {},
     "output_type": "execute_result"
    }
   ],
   "source": [
    "c = [1,3,5,1,5,7,5,3,9,122]\n",
    "c.sort()\n",
    "c"
   ]
  },
  {
   "cell_type": "code",
   "execution_count": 49,
   "id": "18f7db0b",
   "metadata": {},
   "outputs": [
    {
     "data": {
      "text/plain": [
       "{1, 2, 3, 7, 8}"
      ]
     },
     "execution_count": 49,
     "metadata": {},
     "output_type": "execute_result"
    }
   ],
   "source": [
    "x = set({7,8})\n",
    "x.add(1)\n",
    "x.add(2)\n",
    "x.add(3)\n",
    "x"
   ]
  },
  {
   "cell_type": "code",
   "execution_count": 54,
   "id": "21a3efb8",
   "metadata": {
    "scrolled": true
   },
   "outputs": [
    {
     "data": {
      "text/plain": [
       "2500"
      ]
     },
     "execution_count": 54,
     "metadata": {},
     "output_type": "execute_result"
    }
   ],
   "source": [
    "#Scopes LEGB\n",
    "# Local scope\n",
    "x = lambda x: x**2\n",
    "x(50)"
   ]
  },
  {
   "cell_type": "code",
   "execution_count": 59,
   "id": "8f4740bf",
   "metadata": {},
   "outputs": [
    {
     "name": "stdout",
     "output_type": "stream",
     "text": [
      "Hello, Sammy\n"
     ]
    }
   ],
   "source": [
    "# Enclosing Function Locals\n",
    "def greet():\n",
    "    name = \"Sammy\"\n",
    "    def hello():\n",
    "        print(f\"Hello, {name}\")\n",
    "    hello()\n",
    "greet()\n"
   ]
  },
  {
   "cell_type": "code",
   "execution_count": 72,
   "id": "a94ebc94",
   "metadata": {},
   "outputs": [
    {
     "data": {
      "text/plain": [
       "('Huskie', 'Lucky', 'mammal')"
      ]
     },
     "execution_count": 72,
     "metadata": {},
     "output_type": "execute_result"
    }
   ],
   "source": [
    "### Object Oriented Programming\n",
    "class Sample():\n",
    "    species = 'mammal'\n",
    "    def __init__(self, breed, names):\n",
    "        self.breed = breed\n",
    "        self.names = names\n",
    "y = Sample(\"Huskie\", \"Lucky\")\n",
    "y.breed, y.names, y.species"
   ]
  },
  {
   "cell_type": "code",
   "execution_count": 83,
   "id": "9e9a0108",
   "metadata": {},
   "outputs": [
    {
     "name": "stdout",
     "output_type": "stream",
     "text": [
      "30794.742\n"
     ]
    }
   ],
   "source": [
    "class Circle():\n",
    "    pi = 3.142\n",
    "    def __init__(self, radius=1):\n",
    "        self.radius = radius\n",
    "    def area(self):\n",
    "        return (self.radius * self.radius) * self.pi\n",
    "    def set_radius(self, new_r):\n",
    "        self.radius = new_r\n",
    "c = Circle(12)\n",
    "c.set_radius(99)\n",
    "print(c.area())"
   ]
  },
  {
   "cell_type": "code",
   "execution_count": 101,
   "id": "795afc5d",
   "metadata": {},
   "outputs": [
    {
     "name": "stdout",
     "output_type": "stream",
     "text": [
      "DOG CREATED\n",
      "DOG EATING\n",
      "Animal\n"
     ]
    }
   ],
   "source": [
    "class Animal():\n",
    "    def __init__(self):\n",
    "        print(\"ANIMAL CREATED\")\n",
    "    def whoAmI(self):\n",
    "        print(\"Animal\")\n",
    "    def eat(self):\n",
    "        print(\"Eating\")\n",
    "class Dog(Animal):\n",
    "    def __init__(self):\n",
    "#         Animal.__init__(self) #Initialize animal\n",
    "        print(\"DOG CREATED\")\n",
    "    def bark(self):\n",
    "        print(\"WOOF\")\n",
    "    def eat(self):\n",
    "        print(\"DOG EATING\")\n",
    "# mya = Animal()\n",
    "# mya.whoAmI()\n",
    "# mya.eat()\n",
    "\n",
    "d = Dog()\n",
    "d.eat()\n",
    "d.whoAmI()"
   ]
  },
  {
   "cell_type": "code",
   "execution_count": 112,
   "id": "bd0ef30b",
   "metadata": {},
   "outputs": [
    {
     "name": "stdout",
     "output_type": "stream",
     "text": [
      "200\n",
      "Book destroyed\n"
     ]
    }
   ],
   "source": [
    "## Special methods\n",
    "class Book():\n",
    "    def __init__(self, title, author, pages):\n",
    "        self.title = title\n",
    "        self.author = author\n",
    "        self.pages = pages\n",
    "    def __len__(self):\n",
    "        return self.pages\n",
    "    def __del__(self):\n",
    "        print(\"Book destroyed\")\n",
    "    def __str__(self):\n",
    "        return f\"Name of book is {self.title}, produced by {self.author} having {self.pages} pages\"\n",
    "b = Book(\"Python\", \"Jose\", 200)\n",
    "print(len(b))\n",
    "del b"
   ]
  },
  {
   "cell_type": "code",
   "execution_count": null,
   "id": "ccdadd74",
   "metadata": {},
   "outputs": [],
   "source": [
    "\n"
   ]
  }
 ],
 "metadata": {
  "kernelspec": {
   "display_name": "Python 3 (ipykernel)",
   "language": "python",
   "name": "python3"
  },
  "language_info": {
   "codemirror_mode": {
    "name": "ipython",
    "version": 3
   },
   "file_extension": ".py",
   "mimetype": "text/x-python",
   "name": "python",
   "nbconvert_exporter": "python",
   "pygments_lexer": "ipython3",
   "version": "3.10.9"
  }
 },
 "nbformat": 4,
 "nbformat_minor": 5
}
