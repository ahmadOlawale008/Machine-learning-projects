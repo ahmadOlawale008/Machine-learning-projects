{
 "cells": [
  {
   "cell_type": "code",
   "execution_count": 3,
   "metadata": {},
   "outputs": [
    {
     "name": "stdout",
     "output_type": "stream",
     "text": [
      "Laptop\n",
      "    |--: Micorosft surface\n",
      "    |--: Macbook\n",
      "        |--: MAC OS 14.4.1\n",
      "        |--: MAC OS 13.6.6\n",
      "        |--: MAC OS 12.7.4\n",
      "        |--: MAC OS 10.5.7\n",
      "    |--: Windows\n",
      "Cell Phones\n",
      "    |--: Iphone\n",
      "    |--: Samsung\n",
      "Television\n",
      "    |--: LG\n",
      "    |--: Samsung\n"
     ]
    },
    {
     "data": {
      "text/plain": [
       "[]"
      ]
     },
     "execution_count": 3,
     "metadata": {},
     "output_type": "execute_result"
    }
   ],
   "source": [
    "class TreeNode:\n",
    "    def __init__(self, data):\n",
    "        self.data = data\n",
    "        self.children = []\n",
    "        self.parent = None\n",
    "    def add_child(self, child):\n",
    "        child.parent = self\n",
    "        self.children.append(child)\n",
    "    def get_level(self):\n",
    "        level = 0 \n",
    "        p = self.parent\n",
    "        while p:\n",
    "            level += 1\n",
    "            p = p.parent\n",
    "        return level\n",
    "    def print(self):\n",
    "        spaces = \" \" * (self.get_level() * 4) \n",
    "        prefix = \"|--: \" if self.parent else \"\"\n",
    "        if self.children:\n",
    "            for child in self.children:\n",
    "                print(spaces+prefix+child.data)\n",
    "                child.print()\n",
    "        return []\n",
    "\n",
    "def build_product_tree():\n",
    "    root = TreeNode(\"Electronics\")\n",
    "\n",
    "    laptop = TreeNode(\"Laptop\")\n",
    "    laptop.add_child(TreeNode(\"Micorosft surface\"))\n",
    "    macbook = TreeNode(\"Macbook\")\n",
    "    macbook.add_child(TreeNode(\"MAC OS 14.4.1\"))\n",
    "    macbook.add_child(TreeNode(\"MAC OS 13.6.6\"))\n",
    "    macbook.add_child(TreeNode(\"MAC OS 12.7.4\"))\n",
    "    macbook.add_child(TreeNode(\"MAC OS 10.5.7\"))\n",
    "\n",
    "    laptop.add_child(macbook)\n",
    "\n",
    "    laptop.add_child(TreeNode(\"Windows\"))\n",
    "\n",
    "    cell_phones = TreeNode(\"Cell Phones\")\n",
    "    cell_phones.add_child(TreeNode(\"Iphone\"))\n",
    "    cell_phones.add_child(TreeNode(\"Samsung\"))\n",
    "\n",
    "    tv = TreeNode(\"Television\")\n",
    "    tv.add_child(TreeNode(\"LG\"))\n",
    "    tv.add_child(TreeNode(\"Samsung\"))\n",
    "\n",
    "    root.add_child(laptop)  \n",
    "    root.add_child(cell_phones)\n",
    "    root.add_child(tv)\n",
    "\n",
    "    return root\n",
    "tree = build_product_tree()\n",
    "tree.print()"
   ]
  },
  {
   "cell_type": "code",
   "execution_count": null,
   "id": "c82f4e2a",
   "metadata": {},
   "outputs": [],
   "source": []
  },
  {
   "cell_type": "code",
   "execution_count": null,
   "id": "238f08f3",
   "metadata": {},
   "outputs": [],
   "source": []
  }
 ],
 "metadata": {
  "kernelspec": {
   "display_name": "Python 3",
   "language": "python",
   "name": "python3"
  },
  "language_info": {
   "codemirror_mode": {
    "name": "ipython",
    "version": 3
   },
   "file_extension": ".py",
   "mimetype": "text/x-python",
   "name": "python",
   "nbconvert_exporter": "python",
   "pygments_lexer": "ipython3",
   "version": "3.12.2"
  }
 },
 "nbformat": 4,
 "nbformat_minor": 5
}
