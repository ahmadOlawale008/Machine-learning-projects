{
 "cells": [
  {
   "cell_type": "code",
   "execution_count": 11,
   "id": "161b4fdf",
   "metadata": {},
   "outputs": [],
   "source": [
    "arrs = [9, 19, 0, -10, 23, 28, 2, 7, 12]\n",
    "arrayA = [-12, 19, 0, -10, 23, 28, 2, 7, 12]\n",
    "arrayB = [10, 16, 8, 12, 15, 6, 3, 9, 5]"
   ]
  },
  {
   "cell_type": "code",
   "execution_count": 344,
   "id": "ac99d977",
   "metadata": {},
   "outputs": [
    {
     "name": "stdout",
     "output_type": "stream",
     "text": [
      "Bubble Sort: [3, 5, 6, 8, 9, 10, 12, 15, 16]\n",
      "Optimized Bubble Sort: [3, 5, 6, 8, 9, 10, 12, 15, 16]\n",
      "Selection Sort: [3, 5, 6, 8, 9, 10, 12, 15, 16]\n",
      "Quicksort: [3, 5, 6, 8, 9, 10, 12, 15, 16]\n"
     ]
    }
   ],
   "source": [
    "class Sort:\n",
    "    def __init__(self, arrs):\n",
    "        self.arrs = arrs\n",
    "\n",
    "    def bubble_sort(self):\n",
    "        # O(n^2)\n",
    "        for i in range(len(self.arrs)):\n",
    "            for j in range(len(self.arrs) - 1):\n",
    "                if self.arrs[j] > self.arrs[j + 1]:\n",
    "                    temp = self.arrs[j + 1]\n",
    "                    self.arrs[j + 1] = self.arrs[j]\n",
    "                    self.arrs[j] = temp\n",
    "        return self.arrs\n",
    "\n",
    "    def optimized_bubble_sort(self):\n",
    "        for i in range(len(self.arrs)):\n",
    "            for j in range(i, len(self.arrs) - 1):\n",
    "                if self.arrs[j] > self.arrs[j + 1]:\n",
    "                    temp = self.arrs[j + 1]\n",
    "                    self.arrs[j + 1] = self.arrs[j]\n",
    "                    self.arrs[j] = temp\n",
    "        return self.arrs\n",
    "\n",
    "    def selection_sort(self):\n",
    "        for i in range(len(self.arrs)):\n",
    "            minIndex = i\n",
    "            for j in range(i, len(self.arrs)):\n",
    "                if self.arrs[minIndex] > self.arrs[j]:\n",
    "                    minIndex = j\n",
    "            temp = self.arrs[minIndex]\n",
    "            self.arrs[minIndex] = self.arrs[i]\n",
    "            self.arrs[i] = temp\n",
    "        return self.arrs\n",
    "\n",
    "    def __partition(self, low, high):\n",
    "        left = low + 1\n",
    "        right = high\n",
    "        pivot = self.arrs[low]\n",
    "\n",
    "        while True:\n",
    "            while left <= right and self.arrs[left] <= pivot:\n",
    "                left += 1\n",
    "            while left <= right and self.arrs[right] >= pivot:\n",
    "                right -= 1\n",
    "            if left > right:\n",
    "                break\n",
    "            else:\n",
    "                self.arrs[left], self.arrs[right] = self.arrs[right], self.arrs[left]\n",
    "\n",
    "        self.arrs[low], self.arrs[right] = self.arrs[right], self.arrs[low]\n",
    "        return right\n",
    "\n",
    "    def quicksort(self, low, high):\n",
    "        if low < high:\n",
    "            p = self.__partition(low, high)\n",
    "            self.quicksort(low, p - 1)\n",
    "            self.quicksort(p + 1, high)\n",
    "        return self.arrs\n",
    "\n",
    "sorter = Sort(arr)\n",
    "\n",
    "# Bubble Sort\n",
    "print(\"Bubble Sort:\", sorter.bubble_sort())\n",
    "\n",
    "# Optimized Bubble Sort\n",
    "sorter = Sort(arr)  # Resetting the sorter object with the original array\n",
    "print(\"Optimized Bubble Sort:\", sorter.optimized_bubble_sort())\n",
    "\n",
    "# Selection Sort\n",
    "sorter = Sort(arr)  # Resetting the sorter object with the original array\n",
    "print(\"Selection Sort:\", sorter.selection_sort())\n",
    "\n",
    "# Quicksort\n",
    "sorter = Sort(arr)  # Resetting the sorter object with the original array\n",
    "print(\"Quicksort:\", sorter.quicksort(0, len(arr) - 1))\n"
   ]
  },
  {
   "cell_type": "code",
   "execution_count": 343,
   "id": "29409d4e",
   "metadata": {},
   "outputs": [
    {
     "ename": "IndexError",
     "evalue": "list index out of range",
     "output_type": "error",
     "traceback": [
      "\u001b[1;31m---------------------------------------------------------------------------\u001b[0m",
      "\u001b[1;31mIndexError\u001b[0m                                Traceback (most recent call last)",
      "Cell \u001b[1;32mIn[343], line 2\u001b[0m\n\u001b[0;32m      1\u001b[0m _sort_a \u001b[38;5;241m=\u001b[39m Sort(arrayA)\n\u001b[1;32m----> 2\u001b[0m \u001b[43m_sort_a\u001b[49m\u001b[38;5;241;43m.\u001b[39;49m\u001b[43mquicksort\u001b[49m\u001b[43m(\u001b[49m\u001b[38;5;241;43m0\u001b[39;49m\u001b[43m,\u001b[49m\u001b[43m \u001b[49m\u001b[38;5;28;43mlen\u001b[39;49m\u001b[43m(\u001b[49m\u001b[43marrayA\u001b[49m\u001b[43m)\u001b[49m\u001b[43m)\u001b[49m\n",
      "Cell \u001b[1;32mIn[342], line 47\u001b[0m, in \u001b[0;36mSort.quicksort\u001b[1;34m(self, low, high)\u001b[0m\n\u001b[0;32m     45\u001b[0m \u001b[38;5;28;01mdef\u001b[39;00m \u001b[38;5;21mquicksort\u001b[39m(\u001b[38;5;28mself\u001b[39m, low, high):\n\u001b[0;32m     46\u001b[0m     \u001b[38;5;28;01mif\u001b[39;00m low \u001b[38;5;241m<\u001b[39m high:\n\u001b[1;32m---> 47\u001b[0m         p \u001b[38;5;241m=\u001b[39m \u001b[38;5;28;43mself\u001b[39;49m\u001b[38;5;241;43m.\u001b[39;49m\u001b[43m__partition\u001b[49m\u001b[43m(\u001b[49m\u001b[43mlow\u001b[49m\u001b[43m,\u001b[49m\u001b[43m \u001b[49m\u001b[43mhigh\u001b[49m\u001b[43m)\u001b[49m\n\u001b[0;32m     48\u001b[0m         quicksort(low, p\u001b[38;5;241m-\u001b[39m\u001b[38;5;241m1\u001b[39m)\n\u001b[0;32m     49\u001b[0m         quicksort(p\u001b[38;5;241m+\u001b[39m\u001b[38;5;241m1\u001b[39m, high)\n",
      "Cell \u001b[1;32mIn[342], line 37\u001b[0m, in \u001b[0;36mSort.__partition\u001b[1;34m(self, low, high)\u001b[0m\n\u001b[0;32m     35\u001b[0m \u001b[38;5;28;01mwhile\u001b[39;00m left\u001b[38;5;241m<\u001b[39m\u001b[38;5;241m=\u001b[39m right \u001b[38;5;129;01mand\u001b[39;00m \u001b[38;5;28mself\u001b[39m\u001b[38;5;241m.\u001b[39marrs[left] \u001b[38;5;241m<\u001b[39m\u001b[38;5;241m=\u001b[39m pivot:\n\u001b[0;32m     36\u001b[0m     left\u001b[38;5;241m+\u001b[39m\u001b[38;5;241m=\u001b[39m\u001b[38;5;241m1\u001b[39m\n\u001b[1;32m---> 37\u001b[0m \u001b[38;5;28;01mwhile\u001b[39;00m left\u001b[38;5;241m<\u001b[39m\u001b[38;5;241m=\u001b[39m right \u001b[38;5;129;01mand\u001b[39;00m \u001b[38;5;28;43mself\u001b[39;49m\u001b[38;5;241;43m.\u001b[39;49m\u001b[43marrs\u001b[49m\u001b[43m[\u001b[49m\u001b[43mright\u001b[49m\u001b[43m]\u001b[49m \u001b[38;5;241m>\u001b[39m\u001b[38;5;241m=\u001b[39m pivot:\n\u001b[0;32m     38\u001b[0m     right\u001b[38;5;241m-\u001b[39m\u001b[38;5;241m=\u001b[39m\u001b[38;5;241m1\u001b[39m\n\u001b[0;32m     39\u001b[0m \u001b[38;5;28;01mif\u001b[39;00m left \u001b[38;5;241m<\u001b[39m right:\n",
      "\u001b[1;31mIndexError\u001b[0m: list index out of range"
     ]
    }
   ],
   "source": [
    "_sort_a = Sort(arrayA)\n",
    "_sort_a.quicksort(0, len(arrayA))"
   ]
  },
  {
   "cell_type": "code",
   "execution_count": null,
   "id": "be78e944",
   "metadata": {},
   "outputs": [],
   "source": [
    "[10, 16, 8, 12, 15, 6, 3, 9, 5], [10, 16, 5, 12, 15, 9, 3, 6, 8]"
   ]
  },
  {
   "cell_type": "code",
   "execution_count": 332,
   "id": "6182f20b",
   "metadata": {},
   "outputs": [
    {
     "data": {
      "text/plain": [
       "[-100, 3, 6, 8, 9, 10, 12, 15, 16]"
      ]
     },
     "execution_count": 332,
     "metadata": {},
     "output_type": "execute_result"
    }
   ],
   "source": [
    "arrayA = [-12, 19, 0, -10, 23, 28, 2, 7, 12]\n",
    "arrayB = [10, 16, 8, 12, 15, 6, 3, 9, -100]\n",
    "\n",
    "def partition(arrs, low, high):\n",
    "    left = low\n",
    "    right = high\n",
    "    pivot = arrs[low]\n",
    "    done = False\n",
    "    while left < right:\n",
    "        while left<= right and arrs[left] <= pivot:\n",
    "            left+=1\n",
    "        while left<= right and arrs[right] >= pivot:\n",
    "            right-=1\n",
    "        if left < right:\n",
    "            arrs[left], arrs[right] = arrs[right], arrs[left]\n",
    "        \n",
    "    arrs[low], arrs[right] = arrs[right], arrs[low]\n",
    "    \n",
    "    return right\n",
    "\n",
    "def quicksort(arrs, low, high):\n",
    "    if low < high:\n",
    "        p = partition(arrs, low, high)\n",
    "        quicksort(arrs, low, p-1)\n",
    "        quicksort(arrs, p+1, high)\n",
    "    return arrs\n",
    "quicksort(arrayB, 0, len(arrayB)-1)    "
   ]
  },
  {
   "cell_type": "code",
   "execution_count": null,
   "id": "368c2016",
   "metadata": {
    "scrolled": false
   },
   "outputs": [],
   "source": []
  },
  {
   "cell_type": "code",
   "execution_count": 261,
   "id": "a986e231",
   "metadata": {},
   "outputs": [
    {
     "name": "stdout",
     "output_type": "stream",
     "text": [
      "[-12, -10, 0, 2, 7, 12, 19, 23, 28]\n",
      "[3, 5, 6, 8, 9, 10, 12, 15, 16]\n"
     ]
    }
   ],
   "source": [
    "\n",
    "\n",
    "def partition(arrs, low, high):\n",
    "    pivot = arrs[low]\n",
    "    left = low + 1\n",
    "    right = high\n",
    "\n",
    "    done = False\n",
    "    while not done:\n",
    "        while left <= right and arrs[left] <= pivot:\n",
    "            left += 1\n",
    "        while arrs[right] >= pivot and right >= left:\n",
    "            right -= 1\n",
    "        if right < left:\n",
    "            done = True\n",
    "        else:\n",
    "            arrs[left], arrs[right] = arrs[right], arrs[left]\n",
    "\n",
    "    arrs[low], arrs[right] = arrs[right], arrs[low]\n",
    "    return right\n",
    "\n",
    "def quicksort(arr, low, high):\n",
    "    if low < high:\n",
    "        p = partition(arr, low, high)\n",
    "        quicksort(arr, low, p-1)\n",
    "        quicksort(arr, p+1, high)\n",
    "    return arr\n",
    "\n",
    "# Test the quicksort function with arrayA\n",
    "sorted_arrayA = quicksort(arrayA, 0, len(arrayA)-1)\n",
    "print(sorted_arrayA)  # Output: [-12, -10, 0, 2, 7, 12, 19, 23, 28]\n",
    "\n",
    "# Test the quicksort function with arrayB\n",
    "sorted_arrayB = quicksort(arrayB, 0, len(arrayB)-1)\n",
    "print(sorted_arrayB)  # Output: [3, 5, 6, 8, 9, 10, 12, 15, 16]\n"
   ]
  },
  {
   "cell_type": "code",
   "execution_count": null,
   "id": "4897487e",
   "metadata": {},
   "outputs": [],
   "source": []
  }
 ],
 "metadata": {
  "kernelspec": {
   "display_name": "Python 3 (ipykernel)",
   "language": "python",
   "name": "python3"
  },
  "language_info": {
   "codemirror_mode": {
    "name": "ipython",
    "version": 3
   },
   "file_extension": ".py",
   "mimetype": "text/x-python",
   "name": "python",
   "nbconvert_exporter": "python",
   "pygments_lexer": "ipython3",
   "version": "3.10.9"
  }
 },
 "nbformat": 4,
 "nbformat_minor": 5
}
