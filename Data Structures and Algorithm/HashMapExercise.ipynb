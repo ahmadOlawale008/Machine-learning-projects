{
 "cells": [
  {
   "cell_type": "markdown",
   "metadata": {},
   "source": [
    "#### 1. NYC Weather \n",
    "nyc_weather.csv contains new york city weather for first few days in the month of January. Write a program that can answer following,\n",
    "1. What was the average temperature in first week of Jan\n",
    "2. What was the maximum temperature in first 10 days of Jan\n",
    "3. Figure out data structure that is best for this problem"
   ]
  },
  {
   "cell_type": "code",
   "execution_count": 80,
   "metadata": {},
   "outputs": [
    {
     "name": "stdout",
     "output_type": "stream",
     "text": [
      "38\n",
      "31.285714285714285\n"
     ]
    }
   ],
   "source": [
    "def split_weathers(file):\n",
    "    new_arr = []\n",
    "    for i, end in enumerate(file):\n",
    "        new_text = end.strip().split(\",\")\n",
    "        new_arr.append(new_text)\n",
    "    return dict(new_arr)\n",
    "with open(\"nyc_weather.csv\", 'r') as file:\n",
    "    file_lines = file.readlines()\n",
    "    header = file_lines[0].strip().split(\",\")\n",
    "    rest = split_weathers(file_lines[1:])\n",
    "    average_temp = 0\n",
    "    maximum_temp = 0\n",
    "    for ind, enum in enumerate(rest):\n",
    "        if ind <= 6:\n",
    "            average_temp += int(rest[enum])\n",
    "        if int(rest[enum]) >= maximum_temp:\n",
    "            maximum_temp = int(rest[enum])\n",
    "    print(maximum_temp)\n",
    "    print(average_temp/7)\n",
    "    # Average temperature in first week of Jan\n",
    "    file.close()"
   ]
  },
  {
   "cell_type": "markdown",
   "metadata": {},
   "source": [
    "#### Implement hash table where collisions are handled using linear probing.\n",
    " We learnt about linear probing in the video tutorial. Take the hash table implementation that uses chaining and modify methods to use linear probing. Keep MAX size of arr in hashtable as 10."
   ]
  },
  {
   "cell_type": "code",
   "execution_count": 25,
   "metadata": {},
   "outputs": [],
   "source": [
    "class HashTable:\n",
    "    def __init__(self):\n",
    "        self.MAX_SIZE = 10\n",
    "        self.arr = [[] for i in list(range(0, self.MAX_SIZE))]\n",
    "\n",
    "    def get_hash_key(self, key):\n",
    "        char = 0\n",
    "        for i in key:\n",
    "            char += ord(i)\n",
    "        return char % self.MAX_SIZE\n",
    "\n",
    "    def __setitem__(self, key, value):\n",
    "        hashKey = self.get_hash_key(key)\n",
    "        found = False\n",
    "        if self.arr[hashKey]:\n",
    "            for i, e in enumerate(self.arr):\n",
    "                if e == []:\n",
    "                    self.arr[i].append((key, value))\n",
    "                    found = True\n",
    "                    break\n",
    "                continue\n",
    "        else:\n",
    "            self.arr[hashKey].append((key, value))\n",
    "\n",
    "    def __getitem__(self, key):\n",
    "        hashKey = self.get_hash_key(key)\n",
    "        if self.arr[hashKey] and self.arr[hashKey][0][0] == key:\n",
    "            return self.arr[hashKey][0][1]\n",
    "        else:\n",
    "            for i, e in enumerate(self.arr):\n",
    "                if e and e[0][0] == key:\n",
    "                    return e[0][1]"
   ]
  },
  {
   "cell_type": "code",
   "execution_count": 301,
   "metadata": {},
   "outputs": [],
   "source": [
    "class HashTableC:\n",
    "    def __init__(self):\n",
    "        self.MAX_SIZE = 10\n",
    "        self.arr = [None for i in list(range(0, self.MAX_SIZE))]\n",
    "\n",
    "    def get_hash_key(self, key):\n",
    "        char = 0\n",
    "        for i in key:\n",
    "            char += ord(i)\n",
    "        return char % self.MAX_SIZE\n",
    "\n",
    "    def get_prob_range(self, index):\n",
    "        return [*range(index, self.MAX_SIZE)] + [*range(0, index)]\n",
    "\n",
    "    def __setitem__(self, key, value):\n",
    "        hash = self.get_hash_key(key)\n",
    "        space = self.find_space(key, hash)\n",
    "        self.arr[space] = (key, value)\n",
    "\n",
    "    def __getitem__(self, key):\n",
    "        hash = self.get_hash_key(key)\n",
    "        prob_r = self.get_prob_range(hash)\n",
    "        found = False\n",
    "        if self.arr[hash] is None:\n",
    "            return\n",
    "        for prob_index in prob_r:\n",
    "            if self.arr[prob_index] is None:\n",
    "                return\n",
    "            if self.arr[prob_index][0] == key:\n",
    "                found = True\n",
    "                return self.arr[prob_index][1]\n",
    "        if found == False:\n",
    "            raise KeyError(f\"mapping key, {key} not found\")\n",
    "\n",
    "    def __delitem__(self, key):\n",
    "        hash = self.get_hash_key(key)\n",
    "        prob_r = self.get_prob_range(hash)\n",
    "        for prob_index in prob_r:\n",
    "            print(prob_index)\n",
    "            if self.arr[prob_index] is None:\n",
    "                return\n",
    "            if self.arr[prob_index][0] == key:\n",
    "                self.arr[prob_index] = None\n",
    "                return\n",
    "    def find_space(self, key, hash):\n",
    "        prob_r = self.get_prob_range(hash)\n",
    "        for prob_index in prob_r:\n",
    "            if self.arr[prob_index] is None:\n",
    "                return prob_index\n",
    "            if self.arr[prob_index][0] == key:\n",
    "                return prob_index\n",
    "            continue\n",
    "        raise Exception(\"Out of slots\")"
   ]
  },
  {
   "cell_type": "code",
   "execution_count": 302,
   "metadata": {},
   "outputs": [],
   "source": [
    "hashM = HashTableC()\n",
    "hashM[\"n\"] = \"value Twenty\"\n",
    "hashM[\"tea\"] = \"Value A\"\n",
    "hashM[\"ate\"] = \"Value B\"\n",
    "hashM[\"item\"] = \"Value CDRR\"\n",
    "# hashM[\"dare\"] = \"Newww uhnn\"\n",
    "hashM[\"g\"] = \"Upgraded\"\n",
    "hashM[\"j\"] = \"Jsus A\"\n",
    "hashM[\"k\"] = \"Jsus B\"\n",
    "hashM['w'] = 'Sdua'\n",
    "hashM[\"l\"] = \"Jsus C\"\n",
    "hashM[\"h\"] = 4"
   ]
  },
  {
   "cell_type": "code",
   "execution_count": null,
   "metadata": {},
   "outputs": [],
   "source": []
  },
  {
   "cell_type": "code",
   "execution_count": 253,
   "metadata": {},
   "outputs": [
    {
     "name": "stdout",
     "output_type": "stream",
     "text": [
      "4\n",
      "5\n"
     ]
    }
   ],
   "source": [
    "del hashM['ate']"
   ]
  },
  {
   "cell_type": "code",
   "execution_count": 371,
   "metadata": {},
   "outputs": [],
   "source": [
    "class HashTableB:\n",
    "    def __init__(self):\n",
    "        self.MAX = 10\n",
    "        self.arr = [None for i in range(self.MAX)]\n",
    "    def get_hash(self, key):\n",
    "        hash = 0\n",
    "        for char in key:\n",
    "            hash+= ord(char)\n",
    "        return hash % self.MAX\n",
    "    def __getitem__(self, key):\n",
    "        h = self.get_hash(key)\n",
    "        if self.arr[h] is None:\n",
    "            return\n",
    "        prob_range = self.get_prob_range(h)\n",
    "        for prob_index in prob_range:\n",
    "            element = self.arr[prob_index]\n",
    "            if element is None:\n",
    "                return \n",
    "            if element[0] == key:\n",
    "                return element[1]\n",
    "    def __setitem__(self, key, val):\n",
    "        h = self.get_hash(key)\n",
    "        if self.arr[h] is None:\n",
    "            self.arr[h] = (key, val)\n",
    "            return\n",
    "        else:\n",
    "            new_h = self.find_slot(key, h)\n",
    "            self.arr[new_h] = (key, val)\n",
    "        print(self.arr)\n",
    "    def __delitem__(self, key):\n",
    "        h = self.get_hash(key)\n",
    "        prob_range = self.get_prob_range(h)\n",
    "        for prob_index in prob_range:\n",
    "            if self.arr[prob_index] is None:\n",
    "                return\n",
    "            if self.arr[prob_index][0] == key:\n",
    "                self.arr[prob_index] = None\n",
    "        print(self.arr)        \n",
    "    def get_prob_range(self, index):\n",
    "        return [*range(index, len(self.arr))] + [*range(0, index)]\n",
    "    def find_slot(self, key, index):\n",
    "        prob_range = self.get_prob_range(index)\n",
    "        for prob_index in prob_range:\n",
    "            if self.arr[prob_index] is None:\n",
    "                return prob_index\n",
    "            if self.arr[prob_index][0] == key:\n",
    "                return prob_index\n",
    "        raise Exception(\"Hash Map is full\")\n",
    "hashB = HashTable()\n",
    "hashB[\"tea\"] = \"John\"\n",
    "hashB[\"ate\"] = \"John ate\""
   ]
  },
  {
   "cell_type": "code",
   "execution_count": 372,
   "metadata": {},
   "outputs": [],
   "source": [
    "hashB = HashTableB()"
   ]
  },
  {
   "cell_type": "markdown",
   "metadata": {},
   "source": [
    "poem.txt Contains famous poem \"Road not taken\" by poet Robert Frost. You have to read this file in python and print every word and its count as show below. Think about the best data structure that you can use to solve this problem and figure out why you selected that specific data structure.\n",
    " 'diverged': 2,\n",
    " 'in': 3,\n",
    " 'I': 8\n",
    "Solution\n",
    "\n",
    "Implement hash table where collisions are handled using linear probing. We learnt about linear probing in the video tutorial. Take the hash table implementation that uses chaining and modify methods to use linear probing. Keep MAX size of arr in hashtable as 10.\n",
    "Solution"
   ]
  },
  {
   "cell_type": "code",
   "execution_count": 187,
   "metadata": {},
   "outputs": [
    {
     "name": "stdout",
     "output_type": "stream",
     "text": [
      "CPU times: total: 0 ns\n",
      "Wall time: 0 ns\n"
     ]
    }
   ],
   "source": [
    "import re\n",
    "text = None\n",
    "dict_text = {}\n",
    "with open(\"poem.txt\", 'r') as file:\n",
    "    poem_data = file.read()\n",
    "    poem_iter = re.compile(r\"\\W+\")\n",
    "    matches = poem_iter.split(poem_data.strip())\n",
    "    text = matches\n",
    "    file.close()\n",
    "for i in text:\n",
    "    if i in dict_text:\n",
    "        dict_text[i] += 1\n",
    "    else:\n",
    "        dict_text[i] = 1"
   ]
  },
  {
   "cell_type": "code",
   "execution_count": 188,
   "metadata": {},
   "outputs": [],
   "source": [
    "word_count = {}\n",
    "with open(\"poem.txt\", \"r\") as f:\n",
    "    for line in f:\n",
    "        tokens = line.split(\" \")\n",
    "        for token in tokens:\n",
    "            token = token.replace(\"\\n\", \"\")\n",
    "            if token in word_count:\n",
    "                word_count[token] += 1\n",
    "            else:\n",
    "                word_count[token] = 1"
   ]
  },
  {
   "cell_type": "code",
   "execution_count": 185,
   "metadata": {},
   "outputs": [],
   "source": [
    "class Poem:\n",
    "    def __init__(self):\n",
    "        self.arr = []\n",
    "        self.MAX_SIZE = 100\n",
    "    "
   ]
  },
  {
   "cell_type": "code",
   "execution_count": null,
   "metadata": {},
   "outputs": [],
   "source": []
  }
 ],
 "metadata": {
  "kernelspec": {
   "display_name": "Python 3",
   "language": "python",
   "name": "python3"
  },
  "language_info": {
   "codemirror_mode": {
    "name": "ipython",
    "version": 3
   },
   "file_extension": ".py",
   "mimetype": "text/x-python",
   "name": "python",
   "nbconvert_exporter": "python",
   "pygments_lexer": "ipython3",
   "version": "3.12.2"
  }
 },
 "nbformat": 4,
 "nbformat_minor": 2
}
