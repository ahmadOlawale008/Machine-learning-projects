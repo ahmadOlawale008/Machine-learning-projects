{
 "cells": [
  {
   "cell_type": "markdown",
   "id": "73c93d22",
   "metadata": {},
   "source": [
    "### Queue DSA\n",
    "Queue allows us to establish loose coupling\n",
    "\n",
    "It's also called producer consumer problem (First In First Out (FIFO))"
   ]
  },
  {
   "cell_type": "code",
   "execution_count": 12,
   "id": "f6d43f41",
   "metadata": {},
   "outputs": [],
   "source": [
    "from collections import deque\n",
    "queue = deque()\n",
    "\n",
    "queue.appendleft(22)\n",
    "queue.appendleft(29)\n",
    "queue.appendleft(32)\n",
    "queue.appendleft(42)"
   ]
  },
  {
   "cell_type": "code",
   "execution_count": 15,
   "metadata": {},
   "outputs": [
    {
     "data": {
      "text/plain": [
       "deque([42, 32, 29])"
      ]
     },
     "execution_count": 15,
     "metadata": {},
     "output_type": "execute_result"
    }
   ],
   "source": [
    "queue"
   ]
  },
  {
   "cell_type": "code",
   "execution_count": 18,
   "id": "27c058de",
   "metadata": {},
   "outputs": [],
   "source": [
    "class Queue:\n",
    "    def __init__(self):\n",
    "        self.buffer = deque()\n",
    "    def enqueue(self, val):\n",
    "        self.buffer.appendleft(val)\n",
    "    def dequeue(self, val):\n",
    "        self.buffer.pop(val)\n",
    "    def is_empty(self):\n",
    "        return len(self.buffer) == 0\n",
    "    def size(self):\n",
    "        return len(self.buffer)\n",
    "q = Queue()\n",
    "q.enqueue({\n",
    "    'company': \"Wall Mart\",\n",
    "    'timestamp': '15 apr, 11.01 Am',\n",
    "    'price': 134\n",
    "})\n",
    "q.enqueue({\"company\": \"Wall Mart\", \"timestamp\": \"15 apr, 11.02 Am\", \"price\": 135})\n",
    "q.enqueue({\"company\": \"Wall Mart\", \"timestamp\": \"15 apr, 11.03 Am\", \"price\": 135.3})"
   ]
  },
  {
   "cell_type": "code",
   "execution_count": 21,
   "id": "3ea9feea",
   "metadata": {},
   "outputs": [
    {
     "name": "stdout",
     "output_type": "stream",
     "text": [
      "12\n"
     ]
    }
   ],
   "source": [
    "import time\n",
    "time.sleep()"
   ]
  }
 ],
 "metadata": {
  "kernelspec": {
   "display_name": "Python 3",
   "language": "python",
   "name": "python3"
  },
  "language_info": {
   "codemirror_mode": {
    "name": "ipython",
    "version": 3
   },
   "file_extension": ".py",
   "mimetype": "text/x-python",
   "name": "python",
   "nbconvert_exporter": "python",
   "pygments_lexer": "ipython3",
   "version": "3.12.2"
  }
 },
 "nbformat": 4,
 "nbformat_minor": 5
}
