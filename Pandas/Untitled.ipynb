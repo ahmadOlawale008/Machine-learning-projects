{
 "cells": [
  {
   "cell_type": "code",
   "execution_count": 91,
   "id": "09bdf5fa",
   "metadata": {},
   "outputs": [
    {
     "name": "stdout",
     "output_type": "stream",
     "text": [
      "<class 'pandas.core.frame.DataFrame'>\n",
      "RangeIndex: 5 entries, 0 to 4\n",
      "Data columns (total 3 columns):\n",
      " #   Column  Non-Null Count  Dtype \n",
      "---  ------  --------------  ----- \n",
      " 0   Name    5 non-null      object\n",
      " 1   Marks   5 non-null      int64 \n",
      " 2   Gender  5 non-null      object\n",
      "dtypes: int64(1), object(2)\n",
      "memory usage: 248.0+ bytes\n"
     ]
    },
    {
     "data": {
      "text/plain": [
       "100.0"
      ]
     },
     "execution_count": 91,
     "metadata": {},
     "output_type": "execute_result"
    }
   ],
   "source": [
    "import pandas as pd\n",
    "dict = {\n",
    "    \"Name\": [\"David\", \"John\", \"Thomas\", \"Tobi\", \"Olawale\"],\n",
    "    \"Marks\":[90,122, 96, 92, 100],\n",
    "    \"Gender\": [\"M\", \"M\", \"M\", \"F\", \"M\"]\n",
    "}\n",
    "df1 = pd.DataFrame(dict)\n",
    "df1.head(3)\n",
    "df1.tail(3)\n",
    "df1.shape \n",
    "df1.info() #Check info\n",
    "# df1.isnull().sum(axis=0)\n",
    "df1.describe(include=\"all\") # Get overall statistics about dataframe\n",
    "df1[\"Gender\"].unique() # Get unique values\n",
    "df1[\"Gender\"].nunique() # Get number of unique values\n",
    "df1['Gender'].value_counts() # Get counts of unique values\n",
    "len(df1[(df1['Marks'] >= 90) & (df1['Marks'] <=100)])\n",
    "df1[\"Marks\"].between(90, 100).sum()\n",
    "# find average\n",
    "df1['Marks'].mean()"
   ]
  },
  {
   "cell_type": "markdown",
   "id": "d7080091",
   "metadata": {},
   "source": []
  },
  {
   "cell_type": "code",
   "execution_count": 126,
   "id": "9e2359a5",
   "metadata": {},
   "outputs": [],
   "source": [
    "df1[\"Squared marks\"]=df1[\"Marks\"].apply(lambda x: x **2)\n",
    "df1[\"Gender_index\"] = df1['Gender'].map({\"M\": 1, \"F\": 0})\n",
    "df1.drop(\"Gender_index\", axis=1, inplace=True)\n"
   ]
  },
  {
   "cell_type": "markdown",
   "id": "7d6b0c99",
   "metadata": {},
   "source": [
    "### Grouping and aggregation"
   ]
  },
  {
   "cell_type": "code",
   "execution_count": 148,
   "id": "8c395c27",
   "metadata": {},
   "outputs": [
    {
     "data": {
      "text/html": [
       "<div>\n",
       "<style scoped>\n",
       "    .dataframe tbody tr th:only-of-type {\n",
       "        vertical-align: middle;\n",
       "    }\n",
       "\n",
       "    .dataframe tbody tr th {\n",
       "        vertical-align: top;\n",
       "    }\n",
       "\n",
       "    .dataframe thead th {\n",
       "        text-align: right;\n",
       "    }\n",
       "</style>\n",
       "<table border=\"1\" class=\"dataframe\">\n",
       "  <thead>\n",
       "    <tr style=\"text-align: right;\">\n",
       "      <th></th>\n",
       "      <th>Name</th>\n",
       "      <th>Marks</th>\n",
       "    </tr>\n",
       "  </thead>\n",
       "  <tbody>\n",
       "    <tr>\n",
       "      <th>3</th>\n",
       "      <td>Tobi</td>\n",
       "      <td>92</td>\n",
       "    </tr>\n",
       "  </tbody>\n",
       "</table>\n",
       "</div>"
      ],
      "text/plain": [
       "   Name  Marks\n",
       "3  Tobi     92"
      ]
     },
     "execution_count": 148,
     "metadata": {},
     "output_type": "execute_result"
    }
   ],
   "source": [
    "df1.columns\n",
    "df1.index\n",
    "df1.sort_values(by=[\"Marks\", \"Gender\"], ascending=False)\n",
    "df1[df1['Gender']== 'F'][[\"Name\", \"Marks\"]]\n",
    "df1[df1['Gender'].isin(['F'])][[\"Name\", \"Marks\"]]"
   ]
  }
 ],
 "metadata": {
  "kernelspec": {
   "display_name": "Python 3 (ipykernel)",
   "language": "python",
   "name": "python3"
  },
  "language_info": {
   "codemirror_mode": {
    "name": "ipython",
    "version": 3
   },
   "file_extension": ".py",
   "mimetype": "text/x-python",
   "name": "python",
   "nbconvert_exporter": "python",
   "pygments_lexer": "ipython3",
   "version": "3.10.9"
  }
 },
 "nbformat": 4,
 "nbformat_minor": 5
}
